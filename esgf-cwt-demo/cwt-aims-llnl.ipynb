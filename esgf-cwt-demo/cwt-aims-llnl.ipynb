{
 "cells": [
  {
   "cell_type": "code",
   "execution_count": 1,
   "metadata": {},
   "outputs": [],
   "source": [
    "api_key = 'TOKEN'\n",
    "\n",
    "import cwt\n",
    "wps = cwt.WPSClient('https://aims2.llnl.gov/wps/', api_key=api_key, verify=False)"
   ]
  },
  {
   "cell_type": "code",
   "execution_count": 2,
   "metadata": {},
   "outputs": [
    {
     "name": "stdout",
     "output_type": "stream",
     "text": [
      "CDAT.min\n",
      "CDAT.sum\n",
      "CDAT.average\n",
      "CDAT.max\n",
      "CDAT.metrics\n",
      "CDAT.regrid\n",
      "CDAT.subset\n",
      "CDAT.workflow\n",
      "CDAT.aggregate\n",
      "EDASK.xarray-subset\n",
      "EDASK.keras-layer\n",
      "EDASK.xarray-lowpass\n",
      "EDASK.xarray-ave\n",
      "EDASK.xarray-diff\n",
      "EDASK.keras-network\n",
      "EDASK.xarray-min\n",
      "EDASK.xarray-sum\n",
      "EDASK.xarray-cache\n",
      "EDASK.xarray-noop\n",
      "EDASK.xarray-var\n",
      "EDASK.xarray-input\n",
      "EDASK.xarray-anomaly\n",
      "EDASK.xarray-norm\n",
      "EDASK.xarray-med\n",
      "EDASK.xarray-max\n",
      "EDASK.xarray-detrend\n",
      "EDASK.keras-train\n",
      "EDASK.xarray-std\n",
      "EDASK.xarray-eof\n",
      "EDASK.xarray-filter\n",
      "EDASK.xarray-telemap\n",
      "EDASK.xarray-decycle\n",
      "EDASK.keras-model\n",
      "EDASK.xarray-mean\n"
     ]
    }
   ],
   "source": [
    "for p in wps.processes():\n",
    "    print p.identifier\n"
   ]
  },
  {
   "cell_type": "code",
   "execution_count": 3,
   "metadata": {},
   "outputs": [
    {
     "name": "stdout",
     "output_type": "stream",
     "text": [
      "CDAT.subset\n"
     ]
    }
   ],
   "source": [
    "for p in wps.processes('.*\\.subset'):\n",
    "    print p.identifier"
   ]
  },
  {
   "cell_type": "code",
   "execution_count": 4,
   "metadata": {},
   "outputs": [],
   "source": [
    "proc = wps.processes('CDAT.subset')[0]"
   ]
  },
  {
   "cell_type": "code",
   "execution_count": 6,
   "metadata": {},
   "outputs": [],
   "source": [
    "ds_url = 'http://opendap.knmi.nl/knmi/thredds/dodsC/CLIPC/gerics/climatesignalmaps/EUR-44/tasmax/su_python-2-7-6_GERICS_ens-multiModel-climatesignalmap-rcp85-EUR-44_yr_20700101-20991231_1971-2000.nc'\n",
    "\n",
    "su = cwt.Variable(ds_url, 'su')\n",
    "\n",
    "d0 = cwt.Domain(time=(0, 1))\n"
   ]
  },
  {
   "cell_type": "code",
   "execution_count": 7,
   "metadata": {},
   "outputs": [],
   "source": [
    "wps.execute(proc, [su], d0)"
   ]
  },
  {
   "cell_type": "code",
   "execution_count": 8,
   "metadata": {},
   "outputs": [
    {
     "name": "stdout",
     "output_type": "stream",
     "text": [
      "ProcessAccepted Job accepted\n",
      "ProcessSucceeded Job succeeded\n"
     ]
    },
    {
     "data": {
      "text/plain": [
       "True"
      ]
     },
     "execution_count": 8,
     "metadata": {},
     "output_type": "execute_result"
    }
   ],
   "source": [
    "proc.wait()"
   ]
  },
  {
   "cell_type": "code",
   "execution_count": 9,
   "metadata": {},
   "outputs": [
    {
     "name": "stdout",
     "output_type": "stream",
     "text": [
      "Variable(name='53c87510-1e32-40fe-a09b-4d7ece707b3e', uri=u'https://aims2.llnl.gov/threddsCWT/dodsC/public/4/447/dfcda8bb-f336-41da-8875-f2f47ff5c1a8.nc', var_name=u'su', domains=None, mime_type=None)\n"
     ]
    }
   ],
   "source": [
    "print(proc.output)"
   ]
  }
 ],
 "metadata": {
  "kernelspec": {
   "display_name": "Python 2",
   "language": "python",
   "name": "python2"
  },
  "language_info": {
   "codemirror_mode": {
    "name": "ipython",
    "version": 2
   },
   "file_extension": ".py",
   "mimetype": "text/x-python",
   "name": "python",
   "nbconvert_exporter": "python",
   "pygments_lexer": "ipython2",
   "version": "2.7.15"
  }
 },
 "nbformat": 4,
 "nbformat_minor": 2
}
