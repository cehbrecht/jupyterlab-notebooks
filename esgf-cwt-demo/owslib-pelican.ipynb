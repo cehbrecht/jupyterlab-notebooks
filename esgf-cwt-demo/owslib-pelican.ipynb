{
 "cells": [
  {
   "cell_type": "code",
   "execution_count": null,
   "metadata": {},
   "outputs": [],
   "source": [
    "# ESGF Access Token\n",
    "api_key = 'TOKEN'\n",
    "\n",
    "# use headers\n",
    "headers = {'api_key': api_key}\n",
    "\n",
    "from owslib.wps import WebProcessingService\n",
    "\n",
    "wps = WebProcessingService('https://bovec.dkrz.de/ows/proxy/pelican', headers=headers, verify=True)"
   ]
  },
  {
   "cell_type": "code",
   "execution_count": null,
   "metadata": {},
   "outputs": [],
   "source": [
    "for p in wps.processes:\n",
    "    print(p.identifier)\n"
   ]
  },
  {
   "cell_type": "code",
   "execution_count": null,
   "metadata": {},
   "outputs": [],
   "source": [
    "proc = wps.describeprocess(\n",
    "    'pelican_subset'\n",
    ")\n",
    "proc.identifier"
   ]
  },
  {
   "cell_type": "code",
   "execution_count": null,
   "metadata": {},
   "outputs": [],
   "source": [
    "for inpt in proc.dataInputs:\n",
    "    print(inpt.identifier, inpt.dataType)\n"
   ]
  },
  {
   "cell_type": "code",
   "execution_count": null,
   "metadata": {},
   "outputs": [],
   "source": [
    "from owslib_esgfwps import Variable, Domain, Dimension\n",
    "\n",
    "ds_url = 'http://opendap.knmi.nl/knmi/thredds/dodsC/CLIPC/gerics/climatesignalmaps/EUR-44/tasmax/su_python-2-7-6_GERICS_ens-multiModel-climatesignalmap-rcp85-EUR-44_yr_20700101-20991231_1971-2000.nc'\n",
    "\n",
    "su = Variable(uri=ds_url, var_name='su')\n",
    "\n",
    "d0 = Domain([\n",
    "    Dimension('time', 0, 1, crs='indices'),\n",
    "])\n"
   ]
  },
  {
   "cell_type": "code",
   "execution_count": null,
   "metadata": {},
   "outputs": [],
   "source": [
    "inputs = [('domain', d0), ('variable', su)]"
   ]
  },
  {
   "cell_type": "code",
   "execution_count": null,
   "metadata": {},
   "outputs": [],
   "source": [
    "from owslib.wps import SYNC\n",
    "\n",
    "exc = wps.execute(proc.identifier, inputs=inputs, mode=SYNC)"
   ]
  },
  {
   "cell_type": "code",
   "execution_count": null,
   "metadata": {},
   "outputs": [],
   "source": [
    "exc.isComplete()"
   ]
  },
  {
   "cell_type": "code",
   "execution_count": null,
   "metadata": {},
   "outputs": [],
   "source": [
    "exc.isSucceded()"
   ]
  },
  {
   "cell_type": "code",
   "execution_count": null,
   "metadata": {},
   "outputs": [],
   "source": [
    "for output in exc.processOutputs:\n",
    "    print(output.identifier, output.reference)\n"
   ]
  },
  {
   "cell_type": "code",
   "execution_count": null,
   "metadata": {},
   "outputs": [],
   "source": []
  }
 ],
 "metadata": {
  "kernelspec": {
   "display_name": "Python 2",
   "language": "python",
   "name": "python2"
  },
  "language_info": {
   "codemirror_mode": {
    "name": "ipython",
    "version": 2
   },
   "file_extension": ".py",
   "mimetype": "text/x-python",
   "name": "python",
   "nbconvert_exporter": "python",
   "pygments_lexer": "ipython2",
   "version": "2.7.15"
  }
 },
 "nbformat": 4,
 "nbformat_minor": 2
}
