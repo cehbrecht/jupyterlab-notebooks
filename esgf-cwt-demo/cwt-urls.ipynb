{
 "cells": [
  {
   "cell_type": "markdown",
   "metadata": {},
   "source": [
    "# WPS Get Requests\n",
    "\n",
    "http://geoprocessing.info/wpsdoc/"
   ]
  },
  {
   "cell_type": "code",
   "execution_count": 1,
   "metadata": {},
   "outputs": [],
   "source": [
    "get_caps_url_templ = '{}?service=WPS&request=GetCapabilities'"
   ]
  },
  {
   "cell_type": "code",
   "execution_count": 2,
   "metadata": {},
   "outputs": [],
   "source": [
    "describe_process_url_templ = '{}?service=WPS&request=DescribeProcess&version=1.0.0&identifier={}'"
   ]
  },
  {
   "cell_type": "code",
   "execution_count": 3,
   "metadata": {},
   "outputs": [],
   "source": [
    "execute_url_templ = '{}?service=WPS&request=Execute&version=1.0.0&identifier={}&DataInputs=variable={};domain={}'"
   ]
  },
  {
   "cell_type": "markdown",
   "metadata": {},
   "source": [
    "## Pelican"
   ]
  },
  {
   "cell_type": "code",
   "execution_count": 4,
   "metadata": {},
   "outputs": [],
   "source": [
    "wps_url = 'https://bovec.dkrz.de/ows/proxy/pelican'"
   ]
  },
  {
   "cell_type": "code",
   "execution_count": 5,
   "metadata": {},
   "outputs": [
    {
     "name": "stdout",
     "output_type": "stream",
     "text": [
      "https://bovec.dkrz.de/ows/proxy/pelican?service=WPS&request=GetCapabilities\n"
     ]
    }
   ],
   "source": [
    "print(get_caps_url_templ.format(wps_url))"
   ]
  },
  {
   "cell_type": "code",
   "execution_count": 6,
   "metadata": {},
   "outputs": [
    {
     "name": "stdout",
     "output_type": "stream",
     "text": [
      "https://bovec.dkrz.de/ows/proxy/pelican?service=WPS&request=DescribeProcess&version=1.0.0&identifier=pelican_subset\n"
     ]
    }
   ],
   "source": [
    "print(describe_process_url_templ.format(wps_url, 'pelican_subset'))"
   ]
  },
  {
   "cell_type": "code",
   "execution_count": 7,
   "metadata": {},
   "outputs": [
    {
     "name": "stdout",
     "output_type": "stream",
     "text": [
      "{\"id\": \"su|3cc48feb352311e99a88685b35a278a2\", \"var_name\": \"su\", \"name\": \"3cc48feb352311e99a88685b35a278a2\", \"uri\": \"http://opendap.knmi.nl/knmi/thredds/dodsC/CLIPC/gerics/climatesignalmaps/EUR-44/tasmax/su_python-2-7-6_GERICS_ens-multiModel-climatesignalmap-rcp85-EUR-44_yr_20700101-20991231_1971-2000.nc\"}\n"
     ]
    }
   ],
   "source": [
    "from owslib_esgfwps import Variable, Domain, Dimension\n",
    "\n",
    "ds_url = 'http://opendap.knmi.nl/knmi/thredds/dodsC/CLIPC/gerics/climatesignalmaps/EUR-44/tasmax/su_python-2-7-6_GERICS_ens-multiModel-climatesignalmap-rcp85-EUR-44_yr_20700101-20991231_1971-2000.nc'\n",
    "\n",
    "su = Variable(uri=ds_url, var_name='su')\n",
    "\n",
    "print(su.value)\n"
   ]
  },
  {
   "cell_type": "code",
   "execution_count": 8,
   "metadata": {},
   "outputs": [
    {
     "name": "stdout",
     "output_type": "stream",
     "text": [
      "{\"mask\": null, \"name\": \"3cc789c7352311e98e37685b35a278a2\", \"dimensions\": [{\"start\": 0, \"step\": 1, \"end\": 1, \"name\": \"time\", \"crs\": \"indices\"}]}\n"
     ]
    }
   ],
   "source": [
    "d0 = Domain([\n",
    "    Dimension('time', 0, 1, crs='indices'),\n",
    "])\n",
    "\n",
    "print(d0.value)"
   ]
  },
  {
   "cell_type": "code",
   "execution_count": 9,
   "metadata": {},
   "outputs": [
    {
     "name": "stdout",
     "output_type": "stream",
     "text": [
      "https://bovec.dkrz.de/ows/proxy/pelican?service=WPS&request=Execute&version=1.0.0&identifier=pelican_subset&DataInputs=variable={\"id\": \"su|3cc48feb352311e99a88685b35a278a2\", \"var_name\": \"su\", \"name\": \"3cc48feb352311e99a88685b35a278a2\", \"uri\": \"http://opendap.knmi.nl/knmi/thredds/dodsC/CLIPC/gerics/climatesignalmaps/EUR-44/tasmax/su_python-2-7-6_GERICS_ens-multiModel-climatesignalmap-rcp85-EUR-44_yr_20700101-20991231_1971-2000.nc\"};domain={\"mask\": null, \"name\": \"3cc789c7352311e98e37685b35a278a2\", \"dimensions\": [{\"start\": 0, \"step\": 1, \"end\": 1, \"name\": \"time\", \"crs\": \"indices\"}]}\n"
     ]
    }
   ],
   "source": [
    "print(execute_url_templ.format(wps_url, 'pelican_subset', su.value, d0.value))"
   ]
  },
  {
   "cell_type": "markdown",
   "metadata": {},
   "source": [
    "## AIMS-LLNL"
   ]
  },
  {
   "cell_type": "code",
   "execution_count": 10,
   "metadata": {},
   "outputs": [],
   "source": [
    "wps_url = 'https://aims2.llnl.gov/wps/'\n",
    "api_key = 'TOKEN'\n"
   ]
  },
  {
   "cell_type": "markdown",
   "metadata": {},
   "source": [
    "### Get Caps"
   ]
  },
  {
   "cell_type": "code",
   "execution_count": 11,
   "metadata": {},
   "outputs": [
    {
     "name": "stdout",
     "output_type": "stream",
     "text": [
      "https://aims2.llnl.gov/wps/?service=WPS&request=GetCapabilities\n"
     ]
    }
   ],
   "source": [
    "print(get_caps_url_templ.format(wps_url))"
   ]
  },
  {
   "cell_type": "markdown",
   "metadata": {},
   "source": [
    "### Describe Process"
   ]
  },
  {
   "cell_type": "code",
   "execution_count": 12,
   "metadata": {},
   "outputs": [
    {
     "name": "stdout",
     "output_type": "stream",
     "text": [
      "https://aims2.llnl.gov/wps/?service=WPS&request=DescribeProcess&version=1.0.0&identifier=CDAT.subset\n"
     ]
    }
   ],
   "source": [
    "print(describe_process_url_templ.format(wps_url, 'CDAT.subset'))"
   ]
  },
  {
   "cell_type": "markdown",
   "metadata": {},
   "source": [
    "### Execute"
   ]
  },
  {
   "cell_type": "code",
   "execution_count": 13,
   "metadata": {},
   "outputs": [
    {
     "name": "stdout",
     "output_type": "stream",
     "text": [
      "https://aims2.llnl.gov/wps/?service=WPS&request=Execute&version=1.0.0&identifier=CDAT.subset&DataInputs=variable={\"id\": \"su|3cc48feb352311e99a88685b35a278a2\", \"var_name\": \"su\", \"name\": \"3cc48feb352311e99a88685b35a278a2\", \"uri\": \"http://opendap.knmi.nl/knmi/thredds/dodsC/CLIPC/gerics/climatesignalmaps/EUR-44/tasmax/su_python-2-7-6_GERICS_ens-multiModel-climatesignalmap-rcp85-EUR-44_yr_20700101-20991231_1971-2000.nc\"};domain={\"mask\": null, \"name\": \"3cc789c7352311e98e37685b35a278a2\", \"dimensions\": [{\"start\": 0, \"step\": 1, \"end\": 1, \"name\": \"time\", \"crs\": \"indices\"}]}&api_key=TOKEN\n"
     ]
    }
   ],
   "source": [
    "url = execute_url_templ.format(wps_url, 'CDAT.subset', su.value, d0.value)\n",
    "url += \"&api_key=\" + api_key\n",
    "print(url)\n"
   ]
  },
  {
   "cell_type": "markdown",
   "metadata": {},
   "source": [
    "**TODO**: ends with exception:\n",
    "```\n",
    "<ows:ExceptionText>Missing required input &quot;variable&quot; for process CDAT.subset</ows:ExceptionText>\n",
    "```"
   ]
  }
 ],
 "metadata": {
  "kernelspec": {
   "display_name": "Python 2",
   "language": "python",
   "name": "python2"
  },
  "language_info": {
   "codemirror_mode": {
    "name": "ipython",
    "version": 2
   },
   "file_extension": ".py",
   "mimetype": "text/x-python",
   "name": "python",
   "nbconvert_exporter": "python",
   "pygments_lexer": "ipython2",
   "version": "2.7.15"
  }
 },
 "nbformat": 4,
 "nbformat_minor": 2
}
