{
 "cells": [
  {
   "cell_type": "markdown",
   "metadata": {},
   "source": [
    "https://krzysztofzuraw.com/blog/2016/python-class-decorators.html"
   ]
  },
  {
   "cell_type": "markdown",
   "metadata": {},
   "source": [
    "## Class Decorator\n",
    "\n",
    "**TODO**: init does not work."
   ]
  },
  {
   "cell_type": "code",
   "execution_count": null,
   "metadata": {},
   "outputs": [],
   "source": [
    "class BaseClass(object):\n",
    "    def __init__(self, x, y):\n",
    "        self.x = x\n",
    "        self.y = y\n",
    "\n",
    "def decorator(cls):\n",
    "    class Wrapper(BaseClass):\n",
    "        def __init__(self, *args):\n",
    "            self.wrapped = cls(*args)\n",
    "\n",
    "        def __getattr__(self, name):\n",
    "            print('Getting the {} of {}'.format(name, self.wrapped))\n",
    "            return getattr(self.wrapped, name)\n",
    "\n",
    "    return Wrapper\n",
    "\n",
    "@decorator\n",
    "class TestClass(BaseClass):\n",
    "    def __init__(self, x, y):\n",
    "        super(TestClass, self).__init__(x=x, y=y)"
   ]
  },
  {
   "cell_type": "code",
   "execution_count": null,
   "metadata": {},
   "outputs": [],
   "source": [
    "tc = TestClass(1, 2)"
   ]
  },
  {
   "cell_type": "code",
   "execution_count": null,
   "metadata": {},
   "outputs": [],
   "source": [
    "tc.x"
   ]
  },
  {
   "cell_type": "markdown",
   "metadata": {},
   "source": [
    "## Function Decorator"
   ]
  },
  {
   "cell_type": "code",
   "execution_count": null,
   "metadata": {},
   "outputs": [],
   "source": [
    "def decorator(F):\n",
    "    def wrapper(self, x, y):\n",
    "        print('wrapped')\n",
    "        F(self, x, y)\n",
    "    return wrapper\n",
    "\n",
    "class TestClass2(BaseClass):\n",
    "    @decorator\n",
    "    def __init__(self, x, y):\n",
    "        super(TestClass2, self).__init__(x, y)\n"
   ]
  },
  {
   "cell_type": "code",
   "execution_count": null,
   "metadata": {},
   "outputs": [],
   "source": [
    "tc2 = TestClass2(1, 2)\n",
    "tc2.x\n"
   ]
  },
  {
   "cell_type": "code",
   "execution_count": null,
   "metadata": {},
   "outputs": [],
   "source": []
  }
 ],
 "metadata": {
  "kernelspec": {
   "display_name": "Python 3",
   "language": "python",
   "name": "python3"
  },
  "language_info": {
   "codemirror_mode": {
    "name": "ipython",
    "version": 3
   },
   "file_extension": ".py",
   "mimetype": "text/x-python",
   "name": "python",
   "nbconvert_exporter": "python",
   "pygments_lexer": "ipython3",
   "version": "3.6.7"
  }
 },
 "nbformat": 4,
 "nbformat_minor": 2
}
