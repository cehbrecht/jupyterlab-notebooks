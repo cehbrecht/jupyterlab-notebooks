{
 "cells": [
  {
   "cell_type": "markdown",
   "metadata": {},
   "source": [
    "https://krzysztofzuraw.com/blog/2016/python-class-decorators.html"
   ]
  },
  {
   "cell_type": "code",
   "execution_count": null,
   "metadata": {},
   "outputs": [],
   "source": [
    "def decorator(cls):\n",
    "    class Wrapper(object):\n",
    "        def __init__(self, *args):\n",
    "            self.wrapped = cls(*args)\n",
    "\n",
    "        def __getattr__(self, name):\n",
    "            print('Getting the {} of {}'.format(name, self.wrapped))\n",
    "            return getattr(self.wrapped, name)\n",
    "\n",
    "    return Wrapper\n",
    "\n",
    "@decorator\n",
    "class C(object):\n",
    "    def __init__(self, x, y):\n",
    "        self.x = x\n",
    "        self.y = y"
   ]
  },
  {
   "cell_type": "code",
   "execution_count": null,
   "metadata": {},
   "outputs": [],
   "source": [
    "x = C(1,2)\n",
    "print(x.x)"
   ]
  }
 ],
 "metadata": {
  "kernelspec": {
   "display_name": "Python 3",
   "language": "python",
   "name": "python3"
  },
  "language_info": {
   "codemirror_mode": {
    "name": "ipython",
    "version": 3
   },
   "file_extension": ".py",
   "mimetype": "text/x-python",
   "name": "python",
   "nbconvert_exporter": "python",
   "pygments_lexer": "ipython3",
   "version": "3.6.7"
  }
 },
 "nbformat": 4,
 "nbformat_minor": 2
}
