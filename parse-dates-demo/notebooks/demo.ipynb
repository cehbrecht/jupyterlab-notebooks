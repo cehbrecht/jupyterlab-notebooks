{
 "cells": [
  {
   "cell_type": "markdown",
   "id": "77c0a88f-20c5-433c-865c-dcd520bf9010",
   "metadata": {},
   "source": [
    "# Parsing Dates with Python\n"
   ]
  },
  {
   "cell_type": "markdown",
   "id": "aa3037af-2c09-49ba-b3cc-b7c86a045e7a",
   "metadata": {},
   "source": [
    "## iso8601\n",
    "https://pypi.org/project/iso8601/"
   ]
  },
  {
   "cell_type": "code",
   "execution_count": null,
   "id": "0790df53-12e8-49a6-af9f-e721154f5487",
   "metadata": {},
   "outputs": [],
   "source": [
    "import iso8601"
   ]
  },
  {
   "cell_type": "code",
   "execution_count": null,
   "id": "3039a365-72a9-40dd-bd48-dba2be2692c4",
   "metadata": {},
   "outputs": [],
   "source": [
    "iso8601.parse_date(\"2007-01-25T12:00:00Z\")"
   ]
  },
  {
   "cell_type": "code",
   "execution_count": null,
   "id": "ae34ce65-0fd9-4f5f-bd0c-d12627bdf0fd",
   "metadata": {},
   "outputs": [],
   "source": [
    "iso8601.parse_date(\"2007-01-25\")"
   ]
  },
  {
   "cell_type": "code",
   "execution_count": null,
   "id": "2e063903-b5f4-4a11-83e2-6f72a081c5c0",
   "metadata": {},
   "outputs": [],
   "source": [
    "iso8601.parse_date(\"2007-01\")"
   ]
  },
  {
   "cell_type": "code",
   "execution_count": null,
   "id": "699617e0-6adf-4ac6-a8f6-53c74cfb8de7",
   "metadata": {},
   "outputs": [],
   "source": [
    "iso8601.parse_date(\"2007\")"
   ]
  },
  {
   "cell_type": "markdown",
   "id": "2de5ba02-d97a-4db9-a740-fc56b2c250c5",
   "metadata": {},
   "source": [
    "## arrow\n",
    "https://arrow.readthedocs.io/en/latest/"
   ]
  },
  {
   "cell_type": "code",
   "execution_count": null,
   "id": "71aa927d-5048-4d9d-bb82-c62aff3a3007",
   "metadata": {},
   "outputs": [],
   "source": [
    "import arrow"
   ]
  },
  {
   "cell_type": "code",
   "execution_count": null,
   "id": "5862dbd0-02de-4857-9504-c26b609ebc54",
   "metadata": {},
   "outputs": [],
   "source": [
    "arrow.get(\"2021-01-01T12:00:00Z\")"
   ]
  },
  {
   "cell_type": "code",
   "execution_count": null,
   "id": "f80a4b55-ee21-4fc6-aea7-c3a1a01e7130",
   "metadata": {},
   "outputs": [],
   "source": [
    "arrow.get(\"2021-01-01\")"
   ]
  },
  {
   "cell_type": "code",
   "execution_count": null,
   "id": "d0705920-c00b-4b2b-b1b8-d94d900c8d38",
   "metadata": {},
   "outputs": [],
   "source": [
    "arrow.get(\"2021-01\")"
   ]
  },
  {
   "cell_type": "code",
   "execution_count": null,
   "id": "532b3b43-4a61-4627-8968-911ad4a1f666",
   "metadata": {},
   "outputs": [],
   "source": [
    "arrow.get(\"2021\")"
   ]
  },
  {
   "cell_type": "markdown",
   "id": "3b0ecba5-c0b4-47d3-94a0-0bbfca78c0cb",
   "metadata": {},
   "source": [
    "## pendulum\n",
    "\n",
    "https://pendulum.eustace.io/"
   ]
  },
  {
   "cell_type": "code",
   "execution_count": null,
   "id": "5b238b94-ddf6-47ee-bcd3-a5176c903c39",
   "metadata": {},
   "outputs": [],
   "source": [
    "import pendulum"
   ]
  },
  {
   "cell_type": "code",
   "execution_count": null,
   "id": "d3c2f7c6-624b-43be-8a12-a0ebf6159609",
   "metadata": {},
   "outputs": [],
   "source": [
    "pendulum.parse(\"2021-01-01T12:00:00Z\")"
   ]
  },
  {
   "cell_type": "code",
   "execution_count": null,
   "id": "09a7421d-a4ca-4bf9-9886-a9ff6dbc2a95",
   "metadata": {},
   "outputs": [],
   "source": [
    "pendulum.parse(\"2021\")"
   ]
  },
  {
   "cell_type": "code",
   "execution_count": null,
   "id": "8368da4a-717a-4085-acd8-03ac26586c4b",
   "metadata": {},
   "outputs": [],
   "source": [
    "pendulum.parse(\"2007-03-01T13:00:00Z/2008-05-11T15:30:00Z\")"
   ]
  },
  {
   "cell_type": "code",
   "execution_count": null,
   "id": "1828fadf-8df0-472a-9481-70fbf5a325a6",
   "metadata": {},
   "outputs": [],
   "source": [
    "pendulum.parsing.iso8601.parse_iso8601(\"2007-03-01T13:00:00Z\")"
   ]
  },
  {
   "cell_type": "code",
   "execution_count": null,
   "id": "c3d94af1-b049-45bf-bb74-03b96dc6fbad",
   "metadata": {},
   "outputs": [],
   "source": [
    "pendulum.parsing.iso8601.parse_iso8601(\"2007-03-01\")"
   ]
  },
  {
   "cell_type": "code",
   "execution_count": null,
   "id": "2834d21f-2442-494d-b62a-292239038426",
   "metadata": {},
   "outputs": [],
   "source": [
    "pendulum.parsing.iso8601.parse_iso8601(\"2007\")"
   ]
  },
  {
   "cell_type": "code",
   "execution_count": null,
   "id": "87e248ba-a4c4-4ea8-82e1-eb0dadaca8ee",
   "metadata": {},
   "outputs": [],
   "source": [
    "pendulum.parsing._parse_iso8601_interval(\"2007-03-01T13:00:00Z/2008-05-11T15:30:00Z\")"
   ]
  },
  {
   "cell_type": "code",
   "execution_count": null,
   "id": "cd960580-71e1-4712-90b8-fb1cf4c87489",
   "metadata": {},
   "outputs": [],
   "source": [
    "pendulum.parsing._parse_iso8601_interval(\"2007-03-01/2008-05-11\")"
   ]
  },
  {
   "cell_type": "code",
   "execution_count": null,
   "id": "590f24f5-022a-44a6-ac50-308c8300a45e",
   "metadata": {},
   "outputs": [],
   "source": [
    "pendulum.parsing._parse_iso8601_interval(\"2007/2008\")"
   ]
  },
  {
   "cell_type": "markdown",
   "id": "815620ca-9866-454d-a6ce-12294257a9f5",
   "metadata": {},
   "source": [
    "## python-dateutil\n",
    "https://labix.org/python-dateutil"
   ]
  },
  {
   "cell_type": "code",
   "execution_count": null,
   "id": "2e7f1e72-a7ed-441d-bd96-6bf635beaeee",
   "metadata": {},
   "outputs": [],
   "source": [
    "from dateutil.parser import parse"
   ]
  },
  {
   "cell_type": "code",
   "execution_count": null,
   "id": "c83ac063-7ff6-4de3-917c-fb8d5b8da1fb",
   "metadata": {},
   "outputs": [],
   "source": [
    "parse(\"2007-03-01T13:00:00Z\")"
   ]
  },
  {
   "cell_type": "code",
   "execution_count": null,
   "id": "d1a29d18-3272-49b1-becf-d46a6a73509b",
   "metadata": {},
   "outputs": [],
   "source": [
    "parse(\"2007-03-01\")"
   ]
  },
  {
   "cell_type": "code",
   "execution_count": null,
   "id": "b3ae7491-6182-4465-8a2b-055c9c45dfc9",
   "metadata": {},
   "outputs": [],
   "source": [
    "parse(\"2007\")"
   ]
  },
  {
   "cell_type": "markdown",
   "id": "08bf47c8-c5ef-428f-b87e-fda9aa2697ad",
   "metadata": {},
   "source": [
    "## date-parser\n",
    "https://dateparser.readthedocs.io/en/latest/index.html"
   ]
  },
  {
   "cell_type": "code",
   "execution_count": null,
   "id": "1f55a1e0-0436-49b8-bd75-98aec064d2f1",
   "metadata": {},
   "outputs": [],
   "source": [
    "import dateparser"
   ]
  },
  {
   "cell_type": "code",
   "execution_count": null,
   "id": "9bd1083b-a727-4a09-93bd-0dd4bb5403b0",
   "metadata": {},
   "outputs": [],
   "source": []
  }
 ],
 "metadata": {
  "kernelspec": {
   "display_name": "Python 3 (ipykernel)",
   "language": "python",
   "name": "python3"
  },
  "language_info": {
   "codemirror_mode": {
    "name": "ipython",
    "version": 3
   },
   "file_extension": ".py",
   "mimetype": "text/x-python",
   "name": "python",
   "nbconvert_exporter": "python",
   "pygments_lexer": "ipython3",
   "version": "3.9.7"
  }
 },
 "nbformat": 4,
 "nbformat_minor": 5
}
