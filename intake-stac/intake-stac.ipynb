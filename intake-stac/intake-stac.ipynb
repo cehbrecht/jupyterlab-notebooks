{
 "cells": [
  {
   "cell_type": "markdown",
   "id": "e786c518-2928-4362-a473-929089618b98",
   "metadata": {},
   "source": [
    "# intake stac demo\n",
    "\n",
    "https://pypi.org/project/intake-stac/"
   ]
  },
  {
   "cell_type": "code",
   "execution_count": 1,
   "id": "13a584f1-59f9-4d59-8b2e-0f1776eeb4a6",
   "metadata": {},
   "outputs": [],
   "source": [
    "import intake"
   ]
  },
  {
   "cell_type": "markdown",
   "id": "effdf438-9ab4-4079-abce-d41d177172da",
   "metadata": {},
   "source": [
    "## access ceda stac catalog\n",
    "\n",
    "* https://stac.ceda.ac.uk/\n",
    "* https://api.stac.ceda.ac.uk"
   ]
  },
  {
   "cell_type": "code",
   "execution_count": 4,
   "id": "3c0ef8ab-cf33-496b-8410-ea8a3ea8e6b6",
   "metadata": {},
   "outputs": [
    {
     "data": {
      "application/yaml": "stac-fastapi:\n  args:\n    stac_obj: https://api.stac.ceda.ac.uk/\n  description: ''\n  driver: intake_stac.catalog.StacCatalog\n  metadata:\n    conformsTo:\n    - https://api.stacspec.org/v1.0.0-beta.4/item-search#filter:basic-cql\n    - http://www.opengis.net/spec/ogcapi-features-1/1.0/conf/core\n    - https://api.stacspec.org/v1.0.0-beta.4/core\n    - https://api.stacspec.org/v1.0.0-beta.4/ogcapi-features\n    - https://api.stacspec.org/v1.0.0-beta.4/item-search#filter:item-search-filter\n    - http://www.opengis.net/spec/ogcapi-features-1/1.0/conf/geojson\n    - https://api.stacspec.org/v1.0.0-beta.2/item-search#context-collections\n    - https://api.stacspec.org/v1.0.0-beta.4/item-search\n    - https://api.stacspec.org/v1.0.0-beta.4/item-search/#context\n    - https://api.stacspec.org/v1.0.0-beta.2/asset-search\n    - https://api.stacspec.org/v1.0.0-beta.4/item-search#filter:filter\n    - http://www.opengis.net/spec/ogcapi-features-1/1.0/conf/oas30\n    - https://api.stacspec.org/v1.0.0-beta.2/item-search#free-text-search\n    - https://api.stacspec.org/v1.0.0-beta.4/item-search#filter:cql-text\n    description: 'This is an experimental STAC API server.\n\n      The content is subject to change the and there is no guarantee surrounding its\n      uptime.\n\n      '\n    id: stac-fastapi\n    stac_extensions:\n    - https://raw.githubusercontent.com/radiantearth/stac-api-spec/v1.0.0-beta.4/fragments/context/json-schema/schema.json\n    stac_version: 1.0.0\n    title: CEDA STAC API\n    type: Catalog\n",
      "text/plain": [
       "stac-fastapi:\n",
       "  args:\n",
       "    stac_obj: https://api.stac.ceda.ac.uk/\n",
       "  description: ''\n",
       "  driver: intake_stac.catalog.StacCatalog\n",
       "  metadata:\n",
       "    conformsTo:\n",
       "    - https://api.stacspec.org/v1.0.0-beta.4/item-search#filter:basic-cql\n",
       "    - http://www.opengis.net/spec/ogcapi-features-1/1.0/conf/core\n",
       "    - https://api.stacspec.org/v1.0.0-beta.4/core\n",
       "    - https://api.stacspec.org/v1.0.0-beta.4/ogcapi-features\n",
       "    - https://api.stacspec.org/v1.0.0-beta.4/item-search#filter:item-search-filter\n",
       "    - http://www.opengis.net/spec/ogcapi-features-1/1.0/conf/geojson\n",
       "    - https://api.stacspec.org/v1.0.0-beta.2/item-search#context-collections\n",
       "    - https://api.stacspec.org/v1.0.0-beta.4/item-search\n",
       "    - https://api.stacspec.org/v1.0.0-beta.4/item-search/#context\n",
       "    - https://api.stacspec.org/v1.0.0-beta.2/asset-search\n",
       "    - https://api.stacspec.org/v1.0.0-beta.4/item-search#filter:filter\n",
       "    - http://www.opengis.net/spec/ogcapi-features-1/1.0/conf/oas30\n",
       "    - https://api.stacspec.org/v1.0.0-beta.2/item-search#free-text-search\n",
       "    - https://api.stacspec.org/v1.0.0-beta.4/item-search#filter:cql-text\n",
       "    description: 'This is an experimental STAC API server.\n",
       "\n",
       "      The content is subject to change the and there is no guarantee surrounding its\n",
       "      uptime.\n",
       "\n",
       "      '\n",
       "    id: stac-fastapi\n",
       "    stac_extensions:\n",
       "    - https://raw.githubusercontent.com/radiantearth/stac-api-spec/v1.0.0-beta.4/fragments/context/json-schema/schema.json\n",
       "    stac_version: 1.0.0\n",
       "    title: CEDA STAC API\n",
       "    type: Catalog\n"
      ]
     },
     "metadata": {
      "application/json": {
       "root": "stac-fastapi"
      }
     },
     "output_type": "display_data"
    }
   ],
   "source": [
    "catalog_url = 'https://api.stac.ceda.ac.uk/'\n",
    "cat = intake.open_stac_catalog(catalog_url)\n",
    "cat"
   ]
  },
  {
   "cell_type": "code",
   "execution_count": 6,
   "id": "e82485e2-353a-4427-bf87-9c7e0bd51197",
   "metadata": {},
   "outputs": [
    {
     "data": {
      "application/yaml": "cmip6:\n  args:\n    stac_obj: https://api.stac.ceda.ac.uk/collections/cmip6\n  description: ''\n  driver: intake_stac.catalog.StacCollection\n  metadata:\n    catalog_dir: ''\n",
      "text/plain": [
       "cmip6:\n",
       "  args:\n",
       "    stac_obj: https://api.stac.ceda.ac.uk/collections/cmip6\n",
       "  description: ''\n",
       "  driver: intake_stac.catalog.StacCollection\n",
       "  metadata:\n",
       "    catalog_dir: ''\n"
      ]
     },
     "metadata": {
      "application/json": {
       "root": "cmip6"
      }
     },
     "output_type": "display_data"
    }
   ],
   "source": [
    "collection = cat['cmip6']\n",
    "collection"
   ]
  },
  {
   "cell_type": "code",
   "execution_count": null,
   "id": "c4a93f7c-1753-43fd-acc4-1f1244cf188b",
   "metadata": {},
   "outputs": [],
   "source": []
  }
 ],
 "metadata": {
  "kernelspec": {
   "display_name": "Python 3 (ipykernel)",
   "language": "python",
   "name": "python3"
  },
  "language_info": {
   "codemirror_mode": {
    "name": "ipython",
    "version": 3
   },
   "file_extension": ".py",
   "mimetype": "text/x-python",
   "name": "python",
   "nbconvert_exporter": "python",
   "pygments_lexer": "ipython3",
   "version": "3.10.5"
  }
 },
 "nbformat": 4,
 "nbformat_minor": 5
}
