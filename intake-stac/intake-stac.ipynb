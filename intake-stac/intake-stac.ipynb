{
 "cells": [
  {
   "cell_type": "markdown",
   "id": "e786c518-2928-4362-a473-929089618b98",
   "metadata": {},
   "source": [
    "# intake stac demo\n",
    "\n",
    "https://pypi.org/project/intake-stac/"
   ]
  },
  {
   "cell_type": "code",
   "execution_count": 1,
   "id": "13a584f1-59f9-4d59-8b2e-0f1776eeb4a6",
   "metadata": {},
   "outputs": [],
   "source": [
    "import intake\n",
    "import pandas as pd\n",
    "import requests"
   ]
  },
  {
   "cell_type": "markdown",
   "id": "effdf438-9ab4-4079-abce-d41d177172da",
   "metadata": {},
   "source": [
    "## access ceda stac catalog\n",
    "\n",
    "* https://stac.ceda.ac.uk/\n",
    "* https://api.stac.ceda.ac.uk\n",
    "* https://api.stac.ceda.ac.uk/docs"
   ]
  },
  {
   "cell_type": "markdown",
   "id": "6e5516b5-8907-4b5f-8818-86f3a20915c3",
   "metadata": {},
   "source": [
    "## example requests"
   ]
  },
  {
   "cell_type": "code",
   "execution_count": 2,
   "id": "aeb4f43d-be62-47fc-8087-321d386062ca",
   "metadata": {},
   "outputs": [
    {
     "data": {
      "text/plain": [
       "'cmip6'"
      ]
     },
     "execution_count": 2,
     "metadata": {},
     "output_type": "execute_result"
    }
   ],
   "source": [
    "resp = requests.get(\"https://api.stac.ceda.ac.uk/collections\")\n",
    "resp.json()['collections'][0]['id']"
   ]
  },
  {
   "cell_type": "code",
   "execution_count": 3,
   "id": "b4323935-be1b-4670-821f-c03b59b1c559",
   "metadata": {},
   "outputs": [
    {
     "data": {
      "text/plain": [
       "{'type': 'FeatureCollection',\n",
       " 'features': [{'type': 'Feature',\n",
       "   'stac_version': '1.0.0',\n",
       "   'stac_extensions': [],\n",
       "   'id': '60aad7abe7b6ac9f76b1e4c7c286447a',\n",
       "   'collection': 'cmip6',\n",
       "   'bbox': None,\n",
       "   'geometry': None,\n",
       "   'properties': {'index_node': ['esgf-index4.ceda.ac.uk'],\n",
       "    'institution_id': ['CMCC'],\n",
       "    'dataset_id': ['CMIP6.DCPP.CMCC.CMCC-CM2-SR5.dcppA-hindcast.s1974-r5i1p1f1.day.tasmax.gn.v20210804|esgf-data3.ceda.ac.uk'],\n",
       "    'sub_experiment_id': ['s1974'],\n",
       "    'data_node': ['esgf-data3.ceda.ac.uk'],\n",
       "    'realm': ['atmos'],\n",
       "    'variable_units': ['K'],\n",
       "    'master_id': ['CMIP6.DCPP.CMCC.CMCC-CM2-SR5.dcppA-hindcast.s1974-r5i1p1f1.day.tasmax.gn'],\n",
       "    'variable': ['tasmax'],\n",
       "    'pid': ['hdl:21.14100/37dc4994-0f98-316c-97b9-fd05bba9d547'],\n",
       "    'variant_label': ['r5i1p1f1'],\n",
       "    'experiment_id': ['dcppA-hindcast'],\n",
       "    'model_cohort': ['Registered'],\n",
       "    'instance_id': ['CMIP6.DCPP.CMCC.CMCC-CM2-SR5.dcppA-hindcast.s1974-r5i1p1f1.day.tasmax.gn.v20210804'],\n",
       "    'grid': ['native atmosphere regular grid'],\n",
       "    'mip_era': ['CMIP6'],\n",
       "    'variable_long_name': ['Daily Maximum Near-Surface Air Temperature'],\n",
       "    'frequency': ['day'],\n",
       "    'dataset_id_template_': ['%(mip_era)s.%(activity_drs)s.%(institution_id)s.%(source_id)s.%(experiment_id)s.%(member_id)s.%(table_id)s.%(variable_id)s.%(grid_label)s'],\n",
       "    'variable_id': ['tasmax'],\n",
       "    'activity_drs': ['DCPP'],\n",
       "    'citation_url': ['http://cera-www.dkrz.de/WDCC/meta/CMIP6/CMIP6.DCPP.CMCC.CMCC-CM2-SR5.dcppA-hindcast.s1974-r5i1p1f1.day.tasmax.gn.v20210804.json'],\n",
       "    'member_id': ['s1974-r5i1p1f1'],\n",
       "    'product': ['model-output'],\n",
       "    'activity_id': ['DCPP'],\n",
       "    'further_info_url': ['https://furtherinfo.es-doc.org/CMIP6.CMCC.CMCC-CM2-SR5.dcppA-hindcast.s1974.r5i1p1f1'],\n",
       "    'experiment_title': ['hindcast initialized based on observations and using historical forcing'],\n",
       "    'table_id': ['day'],\n",
       "    'data_specs_version': ['01.00.31'],\n",
       "    'grid_label': ['gn'],\n",
       "    'project': ['CMIP6'],\n",
       "    'source_id': ['CMCC-CM2-SR5'],\n",
       "    'file_id': ['CMIP6.DCPP.CMCC.CMCC-CM2-SR5.dcppA-hindcast.s1974-r5i1p1f1.day.tasmax.gn.v20210804.tasmax_day_CMCC-CM2-SR5_dcppA-hindcast_s1974-r5i1p1f1_gn_19741101-19841231.nc|esgf-data3.ceda.ac.uk'],\n",
       "    'nominal_resolution': ['100 km'],\n",
       "    'source_type': ['AOGCM'],\n",
       "    'access': ['Globus', 'GridFTP', 'HTTPServer', 'OPENDAP'],\n",
       "    'cf_standard_name': ['air_temperature'],\n",
       "    'start_datetime': '1974-11-01T00:00:00.000Z',\n",
       "    'end_datetime': '1984-12-31T00:00:00.000Z'},\n",
       "   'links': [{'rel': 'self',\n",
       "     'type': 'application/geo+json',\n",
       "     'href': 'https://api.stac.ceda.ac.uk/collections/cmip6/items/60aad7abe7b6ac9f76b1e4c7c286447a'},\n",
       "    {'rel': 'parent',\n",
       "     'type': 'application/json',\n",
       "     'href': 'https://api.stac.ceda.ac.uk/collections/cmip6'},\n",
       "    {'rel': 'collection',\n",
       "     'type': 'application/json',\n",
       "     'href': 'https://api.stac.ceda.ac.uk/collections/cmip6'},\n",
       "    {'rel': 'root',\n",
       "     'type': 'application/json',\n",
       "     'href': 'https://api.stac.ceda.ac.uk/'},\n",
       "    {'rel': 'assets',\n",
       "     'type': 'application/json',\n",
       "     'href': 'https://api.stac.ceda.ac.uk/collections/cmip6/items/60aad7abe7b6ac9f76b1e4c7c286447a/assets'}],\n",
       "   'assets': {}}],\n",
       " 'links': [{'rel': 'self',\n",
       "   'href': 'https://api.stac.ceda.ac.uk/collections/cmip6/items?limit=1&page=1'},\n",
       "  {'rel': 'next',\n",
       "   'href': 'https://api.stac.ceda.ac.uk/collections/cmip6/items?limit=1&page=2'}],\n",
       " 'context': {'returned': 1, 'limit': 1, 'matched': 677813}}"
      ]
     },
     "execution_count": 3,
     "metadata": {},
     "output_type": "execute_result"
    }
   ],
   "source": [
    "requests.get(\"https://api.stac.ceda.ac.uk/collections/cmip6/items?limit=1\").json()"
   ]
  },
  {
   "cell_type": "code",
   "execution_count": 4,
   "id": "7b8f4771-2a5e-452a-887e-9e44b2965c5a",
   "metadata": {},
   "outputs": [
    {
     "data": {
      "text/plain": [
       "{'type': 'Feature',\n",
       " 'stac_version': '1.0.0',\n",
       " 'stac_extensions': [],\n",
       " 'id': '60aad7abe7b6ac9f76b1e4c7c286447a',\n",
       " 'collection': 'cmip6',\n",
       " 'bbox': None,\n",
       " 'geometry': None,\n",
       " 'properties': {'index_node': ['esgf-index4.ceda.ac.uk'],\n",
       "  'institution_id': ['CMCC'],\n",
       "  'dataset_id': ['CMIP6.DCPP.CMCC.CMCC-CM2-SR5.dcppA-hindcast.s1974-r5i1p1f1.day.tasmax.gn.v20210804|esgf-data3.ceda.ac.uk'],\n",
       "  'sub_experiment_id': ['s1974'],\n",
       "  'data_node': ['esgf-data3.ceda.ac.uk'],\n",
       "  'realm': ['atmos'],\n",
       "  'variable_units': ['K'],\n",
       "  'master_id': ['CMIP6.DCPP.CMCC.CMCC-CM2-SR5.dcppA-hindcast.s1974-r5i1p1f1.day.tasmax.gn'],\n",
       "  'variable': ['tasmax'],\n",
       "  'pid': ['hdl:21.14100/37dc4994-0f98-316c-97b9-fd05bba9d547'],\n",
       "  'variant_label': ['r5i1p1f1'],\n",
       "  'experiment_id': ['dcppA-hindcast'],\n",
       "  'model_cohort': ['Registered'],\n",
       "  'instance_id': ['CMIP6.DCPP.CMCC.CMCC-CM2-SR5.dcppA-hindcast.s1974-r5i1p1f1.day.tasmax.gn.v20210804'],\n",
       "  'grid': ['native atmosphere regular grid'],\n",
       "  'mip_era': ['CMIP6'],\n",
       "  'variable_long_name': ['Daily Maximum Near-Surface Air Temperature'],\n",
       "  'frequency': ['day'],\n",
       "  'dataset_id_template_': ['%(mip_era)s.%(activity_drs)s.%(institution_id)s.%(source_id)s.%(experiment_id)s.%(member_id)s.%(table_id)s.%(variable_id)s.%(grid_label)s'],\n",
       "  'variable_id': ['tasmax'],\n",
       "  'activity_drs': ['DCPP'],\n",
       "  'citation_url': ['http://cera-www.dkrz.de/WDCC/meta/CMIP6/CMIP6.DCPP.CMCC.CMCC-CM2-SR5.dcppA-hindcast.s1974-r5i1p1f1.day.tasmax.gn.v20210804.json'],\n",
       "  'member_id': ['s1974-r5i1p1f1'],\n",
       "  'product': ['model-output'],\n",
       "  'activity_id': ['DCPP'],\n",
       "  'further_info_url': ['https://furtherinfo.es-doc.org/CMIP6.CMCC.CMCC-CM2-SR5.dcppA-hindcast.s1974.r5i1p1f1'],\n",
       "  'experiment_title': ['hindcast initialized based on observations and using historical forcing'],\n",
       "  'table_id': ['day'],\n",
       "  'data_specs_version': ['01.00.31'],\n",
       "  'grid_label': ['gn'],\n",
       "  'project': ['CMIP6'],\n",
       "  'source_id': ['CMCC-CM2-SR5'],\n",
       "  'file_id': ['CMIP6.DCPP.CMCC.CMCC-CM2-SR5.dcppA-hindcast.s1974-r5i1p1f1.day.tasmax.gn.v20210804.tasmax_day_CMCC-CM2-SR5_dcppA-hindcast_s1974-r5i1p1f1_gn_19741101-19841231.nc|esgf-data3.ceda.ac.uk'],\n",
       "  'nominal_resolution': ['100 km'],\n",
       "  'source_type': ['AOGCM'],\n",
       "  'access': ['Globus', 'GridFTP', 'HTTPServer', 'OPENDAP'],\n",
       "  'cf_standard_name': ['air_temperature'],\n",
       "  'start_datetime': '1974-11-01T00:00:00.000Z',\n",
       "  'end_datetime': '1984-12-31T00:00:00.000Z'},\n",
       " 'links': [{'rel': 'self',\n",
       "   'type': 'application/geo+json',\n",
       "   'href': 'https://api.stac.ceda.ac.uk/collections/cmip6/items/60aad7abe7b6ac9f76b1e4c7c286447a'},\n",
       "  {'rel': 'parent',\n",
       "   'type': 'application/json',\n",
       "   'href': 'https://api.stac.ceda.ac.uk/collections/cmip6'},\n",
       "  {'rel': 'collection',\n",
       "   'type': 'application/json',\n",
       "   'href': 'https://api.stac.ceda.ac.uk/collections/cmip6'},\n",
       "  {'rel': 'root',\n",
       "   'type': 'application/json',\n",
       "   'href': 'https://api.stac.ceda.ac.uk/'},\n",
       "  {'rel': 'assets',\n",
       "   'type': 'application/json',\n",
       "   'href': 'https://api.stac.ceda.ac.uk/collections/cmip6/items/60aad7abe7b6ac9f76b1e4c7c286447a/assets'}],\n",
       " 'assets': {}}"
      ]
     },
     "execution_count": 4,
     "metadata": {},
     "output_type": "execute_result"
    }
   ],
   "source": [
    "requests.get(\"https://api.stac.ceda.ac.uk/collections/cmip6/items/60aad7abe7b6ac9f76b1e4c7c286447a\").json()"
   ]
  },
  {
   "cell_type": "code",
   "execution_count": 5,
   "id": "3c0ef8ab-cf33-496b-8410-ea8a3ea8e6b6",
   "metadata": {},
   "outputs": [
    {
     "data": {
      "application/yaml": "stac-fastapi:\n  args:\n    stac_obj: https://api.stac.ceda.ac.uk/\n  description: ''\n  driver: intake_stac.catalog.StacCatalog\n  metadata:\n    conformsTo:\n    - https://api.stacspec.org/v1.0.0-beta.4/item-search#filter:basic-cql\n    - http://www.opengis.net/spec/ogcapi-features-1/1.0/conf/core\n    - https://api.stacspec.org/v1.0.0-beta.4/core\n    - https://api.stacspec.org/v1.0.0-beta.4/ogcapi-features\n    - https://api.stacspec.org/v1.0.0-beta.4/item-search#filter:item-search-filter\n    - http://www.opengis.net/spec/ogcapi-features-1/1.0/conf/geojson\n    - https://api.stacspec.org/v1.0.0-beta.2/item-search#context-collections\n    - https://api.stacspec.org/v1.0.0-beta.4/item-search\n    - https://api.stacspec.org/v1.0.0-beta.4/item-search/#context\n    - https://api.stacspec.org/v1.0.0-beta.2/asset-search\n    - https://api.stacspec.org/v1.0.0-beta.4/item-search#filter:filter\n    - http://www.opengis.net/spec/ogcapi-features-1/1.0/conf/oas30\n    - https://api.stacspec.org/v1.0.0-beta.2/item-search#free-text-search\n    - https://api.stacspec.org/v1.0.0-beta.4/item-search#filter:cql-text\n    description: 'This is an experimental STAC API server.\n\n      The content is subject to change the and there is no guarantee surrounding its\n      uptime.\n\n      '\n    id: stac-fastapi\n    stac_extensions:\n    - https://raw.githubusercontent.com/radiantearth/stac-api-spec/v1.0.0-beta.4/fragments/context/json-schema/schema.json\n    stac_version: 1.0.0\n    title: CEDA STAC API\n    type: Catalog\n",
      "text/plain": [
       "stac-fastapi:\n",
       "  args:\n",
       "    stac_obj: https://api.stac.ceda.ac.uk/\n",
       "  description: ''\n",
       "  driver: intake_stac.catalog.StacCatalog\n",
       "  metadata:\n",
       "    conformsTo:\n",
       "    - https://api.stacspec.org/v1.0.0-beta.4/item-search#filter:basic-cql\n",
       "    - http://www.opengis.net/spec/ogcapi-features-1/1.0/conf/core\n",
       "    - https://api.stacspec.org/v1.0.0-beta.4/core\n",
       "    - https://api.stacspec.org/v1.0.0-beta.4/ogcapi-features\n",
       "    - https://api.stacspec.org/v1.0.0-beta.4/item-search#filter:item-search-filter\n",
       "    - http://www.opengis.net/spec/ogcapi-features-1/1.0/conf/geojson\n",
       "    - https://api.stacspec.org/v1.0.0-beta.2/item-search#context-collections\n",
       "    - https://api.stacspec.org/v1.0.0-beta.4/item-search\n",
       "    - https://api.stacspec.org/v1.0.0-beta.4/item-search/#context\n",
       "    - https://api.stacspec.org/v1.0.0-beta.2/asset-search\n",
       "    - https://api.stacspec.org/v1.0.0-beta.4/item-search#filter:filter\n",
       "    - http://www.opengis.net/spec/ogcapi-features-1/1.0/conf/oas30\n",
       "    - https://api.stacspec.org/v1.0.0-beta.2/item-search#free-text-search\n",
       "    - https://api.stacspec.org/v1.0.0-beta.4/item-search#filter:cql-text\n",
       "    description: 'This is an experimental STAC API server.\n",
       "\n",
       "      The content is subject to change the and there is no guarantee surrounding its\n",
       "      uptime.\n",
       "\n",
       "      '\n",
       "    id: stac-fastapi\n",
       "    stac_extensions:\n",
       "    - https://raw.githubusercontent.com/radiantearth/stac-api-spec/v1.0.0-beta.4/fragments/context/json-schema/schema.json\n",
       "    stac_version: 1.0.0\n",
       "    title: CEDA STAC API\n",
       "    type: Catalog\n"
      ]
     },
     "metadata": {
      "application/json": {
       "root": "stac-fastapi"
      }
     },
     "output_type": "display_data"
    }
   ],
   "source": [
    "catalog_url = 'https://api.stac.ceda.ac.uk/'\n",
    "cat = intake.open_stac_catalog(catalog_url)\n",
    "cat"
   ]
  },
  {
   "cell_type": "code",
   "execution_count": 6,
   "id": "256ee4ea-acf6-4405-9e13-1e1a6179afb1",
   "metadata": {},
   "outputs": [
    {
     "data": {
      "text/plain": [
       "'stac-fastapi'"
      ]
     },
     "execution_count": 6,
     "metadata": {},
     "output_type": "execute_result"
    }
   ],
   "source": [
    "cat.name"
   ]
  },
  {
   "cell_type": "code",
   "execution_count": 7,
   "id": "d5d32602-e6e4-48e7-8785-4dc698477413",
   "metadata": {},
   "outputs": [
    {
     "data": {
      "text/plain": [
       "{'type': 'Catalog',\n",
       " 'id': 'stac-fastapi',\n",
       " 'stac_version': '1.0.0',\n",
       " 'description': 'This is an experimental STAC API server.\\nThe content is subject to change the and there is no guarantee surrounding its uptime.\\n',\n",
       " 'stac_extensions': ['https://raw.githubusercontent.com/radiantearth/stac-api-spec/v1.0.0-beta.4/fragments/context/json-schema/schema.json'],\n",
       " 'conformsTo': ['https://api.stacspec.org/v1.0.0-beta.4/item-search#filter:basic-cql',\n",
       "  'http://www.opengis.net/spec/ogcapi-features-1/1.0/conf/core',\n",
       "  'https://api.stacspec.org/v1.0.0-beta.4/core',\n",
       "  'https://api.stacspec.org/v1.0.0-beta.4/ogcapi-features',\n",
       "  'https://api.stacspec.org/v1.0.0-beta.4/item-search#filter:item-search-filter',\n",
       "  'http://www.opengis.net/spec/ogcapi-features-1/1.0/conf/geojson',\n",
       "  'https://api.stacspec.org/v1.0.0-beta.2/item-search#context-collections',\n",
       "  'https://api.stacspec.org/v1.0.0-beta.4/item-search',\n",
       "  'https://api.stacspec.org/v1.0.0-beta.4/item-search/#context',\n",
       "  'https://api.stacspec.org/v1.0.0-beta.2/asset-search',\n",
       "  'https://api.stacspec.org/v1.0.0-beta.4/item-search#filter:filter',\n",
       "  'http://www.opengis.net/spec/ogcapi-features-1/1.0/conf/oas30',\n",
       "  'https://api.stacspec.org/v1.0.0-beta.2/item-search#free-text-search',\n",
       "  'https://api.stacspec.org/v1.0.0-beta.4/item-search#filter:cql-text'],\n",
       " 'title': 'CEDA STAC API'}"
      ]
     },
     "execution_count": 7,
     "metadata": {},
     "output_type": "execute_result"
    }
   ],
   "source": [
    "cat.metadata"
   ]
  },
  {
   "cell_type": "code",
   "execution_count": 8,
   "id": "3eedb93b-0fbe-4415-aa19-24a3298b10e0",
   "metadata": {},
   "outputs": [
    {
     "data": {
      "text/plain": [
       "['cmip6']"
      ]
     },
     "execution_count": 8,
     "metadata": {},
     "output_type": "execute_result"
    }
   ],
   "source": [
    "list(cat)"
   ]
  },
  {
   "cell_type": "code",
   "execution_count": 9,
   "id": "e82485e2-353a-4427-bf87-9c7e0bd51197",
   "metadata": {},
   "outputs": [
    {
     "data": {
      "application/yaml": "cmip6:\n  args:\n    stac_obj: https://api.stac.ceda.ac.uk/collections/cmip6\n  description: ''\n  driver: intake_stac.catalog.StacCollection\n  metadata:\n    catalog_dir: ''\n",
      "text/plain": [
       "cmip6:\n",
       "  args:\n",
       "    stac_obj: https://api.stac.ceda.ac.uk/collections/cmip6\n",
       "  description: ''\n",
       "  driver: intake_stac.catalog.StacCollection\n",
       "  metadata:\n",
       "    catalog_dir: ''\n"
      ]
     },
     "metadata": {
      "application/json": {
       "root": "cmip6"
      }
     },
     "output_type": "display_data"
    }
   ],
   "source": [
    "subcat = cat['cmip6']\n",
    "subcat"
   ]
  },
  {
   "cell_type": "code",
   "execution_count": 10,
   "id": "cf44bf80-a06f-4025-a903-6df66a41bbb0",
   "metadata": {},
   "outputs": [
    {
     "data": {
      "text/plain": [
       "[]"
      ]
     },
     "execution_count": 10,
     "metadata": {},
     "output_type": "execute_result"
    }
   ],
   "source": [
    "list(subcat)"
   ]
  },
  {
   "cell_type": "code",
   "execution_count": 11,
   "id": "5aab4f58-d684-4121-a01b-361c9e992d3d",
   "metadata": {},
   "outputs": [
    {
     "data": {
      "text/plain": [
       "{'type': 'Collection',\n",
       " 'id': 'cmip6',\n",
       " 'stac_version': '1.0.0',\n",
       " 'description': '',\n",
       " 'stac_extensions': [],\n",
       " 'title': '',\n",
       " 'keywords': None,\n",
       " 'providers': None,\n",
       " 'summaries': {'product': ['model-output'],\n",
       "  'source_type': ['AER',\n",
       "   'AGCM',\n",
       "   'AOGCM',\n",
       "   'AOGCM,AER',\n",
       "   'BGC',\n",
       "   'CHEM',\n",
       "   'ISM',\n",
       "   'LAND',\n",
       "   'OGCM',\n",
       "   'RAD'],\n",
       "  'metadata_format': ['THREDDS'],\n",
       "  'grid_label': ['gm',\n",
       "   'gn',\n",
       "   'gnz',\n",
       "   'gr',\n",
       "   'gr1',\n",
       "   'gr1z',\n",
       "   'gr2',\n",
       "   'gr2z',\n",
       "   'gr3',\n",
       "   'gra',\n",
       "   'grg',\n",
       "   'grz'],\n",
       "  'model_cohort': ['Registered'],\n",
       "  'data_specs_version': ['01.00.15',\n",
       "   '01.00.20',\n",
       "   '01.00.21',\n",
       "   '01.00.23',\n",
       "   '01.00.27',\n",
       "   '01.00.28',\n",
       "   '01.00.29',\n",
       "   '01.00.30',\n",
       "   '01.00.31',\n",
       "   '01.00.32',\n",
       "   '01.00.33'],\n",
       "  'project': ['CMIP6'],\n",
       "  'nominal_resolution': ['10 km',\n",
       "   '100 km',\n",
       "   '10000 km',\n",
       "   '1x1 degree',\n",
       "   '200 km',\n",
       "   '25 km',\n",
       "   '250 km',\n",
       "   '2x2 degree',\n",
       "   '50 km',\n",
       "   '500 km'],\n",
       "  'activity_drs': ['AerChemMIP',\n",
       "   'C4MIP',\n",
       "   'CDRMIP',\n",
       "   'CFMIP',\n",
       "   'CMIP',\n",
       "   'DAMIP',\n",
       "   'DCPP',\n",
       "   'FAFMIP',\n",
       "   'GMMIP',\n",
       "   'GeoMIP',\n",
       "   'HighResMIP',\n",
       "   'ISMIP6',\n",
       "   'LS3MIP',\n",
       "   'LUMIP',\n",
       "   'OMIP',\n",
       "   'PAMIP',\n",
       "   'PMIP',\n",
       "   'RFMIP',\n",
       "   'ScenarioMIP'],\n",
       "  'index_node': ['esgf-index4.ceda.ac.uk'],\n",
       "  'data_node': ['esgf-data3.ceda.ac.uk'],\n",
       "  'dataset_id_template_': ['%(mip_era)s.%(activity_drs)s.%(institution_id)s.%(source_id)s.%(experiment_id)s.%(member_id)s.%(table_id)s.%(variable_id)s.%(grid_label)s',\n",
       "   'CMIP6.%(activity_drs)s.%(institution_id)s.%(source_id)s.%(experiment_id)s.%(member_id)s.%(table_id)s.%(variable_id)s.%(grid_label)s'],\n",
       "  'realm': ['aerosol',\n",
       "   'atmos',\n",
       "   'atmosChem',\n",
       "   'land',\n",
       "   'landIce',\n",
       "   'ocean',\n",
       "   'ocnBgChem',\n",
       "   'ocnBgchem',\n",
       "   'seaIce',\n",
       "   'seaice'],\n",
       "  'activity_id': ['AerChemMIP',\n",
       "   'C4MIP',\n",
       "   'CDRMIP',\n",
       "   'CFMIP',\n",
       "   'CMIP',\n",
       "   'DAMIP',\n",
       "   'DCPP',\n",
       "   'FAFMIP',\n",
       "   'GMMIP',\n",
       "   'GeoMIP',\n",
       "   'HighResMIP',\n",
       "   'ISMIP6',\n",
       "   'LS3MIP',\n",
       "   'LUMIP',\n",
       "   'OMIP',\n",
       "   'PAMIP',\n",
       "   'PMIP',\n",
       "   'RFMIP',\n",
       "   'ScenarioMIP',\n",
       "   'VolMIP'],\n",
       "  'mip_era': ['CMIP6'],\n",
       "  'frequency': ['1hr',\n",
       "   '1hrCM',\n",
       "   '3hr',\n",
       "   '3hrPt',\n",
       "   '6hr',\n",
       "   '6hrPt',\n",
       "   'day',\n",
       "   'dec',\n",
       "   'fx',\n",
       "   'mon',\n",
       "   'monC',\n",
       "   'monPt',\n",
       "   'subhrPt',\n",
       "   'yr',\n",
       "   'yrPt']},\n",
       " 'extent': {'spatial': {'bbox': [[-180, -90, 180, 90]]},\n",
       "  'temporal': {'interval': [['0001-01-01T00:00:00Z',\n",
       "     '8099-12-01T00:00:00Z']]}},\n",
       " 'license': 'default'}"
      ]
     },
     "execution_count": 11,
     "metadata": {},
     "output_type": "execute_result"
    }
   ],
   "source": [
    "subcat.metadata"
   ]
  },
  {
   "cell_type": "markdown",
   "id": "dd9b5e88-a390-416a-bfdb-2ca59b9b702d",
   "metadata": {},
   "source": [
    "## open cmip6 collection"
   ]
  },
  {
   "cell_type": "code",
   "execution_count": 12,
   "id": "138fd5da-66ed-4912-afe6-0518bb6c4428",
   "metadata": {},
   "outputs": [
    {
     "data": {
      "application/yaml": "cmip6:\n  args:\n    stac_obj: https://api.stac.ceda.ac.uk/collections/cmip6\n  description: ''\n  driver: intake_stac.catalog.StacCollection\n  metadata:\n    description: ''\n    extent:\n      spatial:\n        bbox:\n        - - -180\n          - -90\n          - 180\n          - 90\n      temporal:\n        interval:\n        - - '0001-01-01T00:00:00Z'\n          - '8099-12-01T00:00:00Z'\n    id: cmip6\n    keywords: null\n    license: default\n    providers: null\n    stac_extensions: []\n    stac_version: 1.0.0\n    summaries:\n      activity_drs:\n      - AerChemMIP\n      - C4MIP\n      - CDRMIP\n      - CFMIP\n      - CMIP\n      - DAMIP\n      - DCPP\n      - FAFMIP\n      - GMMIP\n      - GeoMIP\n      - HighResMIP\n      - ISMIP6\n      - LS3MIP\n      - LUMIP\n      - OMIP\n      - PAMIP\n      - PMIP\n      - RFMIP\n      - ScenarioMIP\n      activity_id:\n      - AerChemMIP\n      - C4MIP\n      - CDRMIP\n      - CFMIP\n      - CMIP\n      - DAMIP\n      - DCPP\n      - FAFMIP\n      - GMMIP\n      - GeoMIP\n      - HighResMIP\n      - ISMIP6\n      - LS3MIP\n      - LUMIP\n      - OMIP\n      - PAMIP\n      - PMIP\n      - RFMIP\n      - ScenarioMIP\n      - VolMIP\n      data_node:\n      - esgf-data3.ceda.ac.uk\n      data_specs_version:\n      - 01.00.15\n      - 01.00.20\n      - 01.00.21\n      - 01.00.23\n      - 01.00.27\n      - 01.00.28\n      - 01.00.29\n      - 01.00.30\n      - 01.00.31\n      - 01.00.32\n      - 01.00.33\n      dataset_id_template_:\n      - '%(mip_era)s.%(activity_drs)s.%(institution_id)s.%(source_id)s.%(experiment_id)s.%(member_id)s.%(table_id)s.%(variable_id)s.%(grid_label)s'\n      - CMIP6.%(activity_drs)s.%(institution_id)s.%(source_id)s.%(experiment_id)s.%(member_id)s.%(table_id)s.%(variable_id)s.%(grid_label)s\n      frequency:\n      - 1hr\n      - 1hrCM\n      - 3hr\n      - 3hrPt\n      - 6hr\n      - 6hrPt\n      - day\n      - dec\n      - fx\n      - mon\n      - monC\n      - monPt\n      - subhrPt\n      - yr\n      - yrPt\n      grid_label:\n      - gm\n      - gn\n      - gnz\n      - gr\n      - gr1\n      - gr1z\n      - gr2\n      - gr2z\n      - gr3\n      - gra\n      - grg\n      - grz\n      index_node:\n      - esgf-index4.ceda.ac.uk\n      metadata_format:\n      - THREDDS\n      mip_era:\n      - CMIP6\n      model_cohort:\n      - Registered\n      nominal_resolution:\n      - 10 km\n      - 100 km\n      - 10000 km\n      - 1x1 degree\n      - 200 km\n      - 25 km\n      - 250 km\n      - 2x2 degree\n      - 50 km\n      - 500 km\n      product:\n      - model-output\n      project:\n      - CMIP6\n      realm:\n      - aerosol\n      - atmos\n      - atmosChem\n      - land\n      - landIce\n      - ocean\n      - ocnBgChem\n      - ocnBgchem\n      - seaIce\n      - seaice\n      source_type:\n      - AER\n      - AGCM\n      - AOGCM\n      - AOGCM,AER\n      - BGC\n      - CHEM\n      - ISM\n      - LAND\n      - OGCM\n      - RAD\n    title: ''\n    type: Collection\n",
      "text/plain": [
       "cmip6:\n",
       "  args:\n",
       "    stac_obj: https://api.stac.ceda.ac.uk/collections/cmip6\n",
       "  description: ''\n",
       "  driver: intake_stac.catalog.StacCollection\n",
       "  metadata:\n",
       "    description: ''\n",
       "    extent:\n",
       "      spatial:\n",
       "        bbox:\n",
       "        - - -180\n",
       "          - -90\n",
       "          - 180\n",
       "          - 90\n",
       "      temporal:\n",
       "        interval:\n",
       "        - - '0001-01-01T00:00:00Z'\n",
       "          - '8099-12-01T00:00:00Z'\n",
       "    id: cmip6\n",
       "    keywords: null\n",
       "    license: default\n",
       "    providers: null\n",
       "    stac_extensions: []\n",
       "    stac_version: 1.0.0\n",
       "    summaries:\n",
       "      activity_drs:\n",
       "      - AerChemMIP\n",
       "      - C4MIP\n",
       "      - CDRMIP\n",
       "      - CFMIP\n",
       "      - CMIP\n",
       "      - DAMIP\n",
       "      - DCPP\n",
       "      - FAFMIP\n",
       "      - GMMIP\n",
       "      - GeoMIP\n",
       "      - HighResMIP\n",
       "      - ISMIP6\n",
       "      - LS3MIP\n",
       "      - LUMIP\n",
       "      - OMIP\n",
       "      - PAMIP\n",
       "      - PMIP\n",
       "      - RFMIP\n",
       "      - ScenarioMIP\n",
       "      activity_id:\n",
       "      - AerChemMIP\n",
       "      - C4MIP\n",
       "      - CDRMIP\n",
       "      - CFMIP\n",
       "      - CMIP\n",
       "      - DAMIP\n",
       "      - DCPP\n",
       "      - FAFMIP\n",
       "      - GMMIP\n",
       "      - GeoMIP\n",
       "      - HighResMIP\n",
       "      - ISMIP6\n",
       "      - LS3MIP\n",
       "      - LUMIP\n",
       "      - OMIP\n",
       "      - PAMIP\n",
       "      - PMIP\n",
       "      - RFMIP\n",
       "      - ScenarioMIP\n",
       "      - VolMIP\n",
       "      data_node:\n",
       "      - esgf-data3.ceda.ac.uk\n",
       "      data_specs_version:\n",
       "      - 01.00.15\n",
       "      - 01.00.20\n",
       "      - 01.00.21\n",
       "      - 01.00.23\n",
       "      - 01.00.27\n",
       "      - 01.00.28\n",
       "      - 01.00.29\n",
       "      - 01.00.30\n",
       "      - 01.00.31\n",
       "      - 01.00.32\n",
       "      - 01.00.33\n",
       "      dataset_id_template_:\n",
       "      - '%(mip_era)s.%(activity_drs)s.%(institution_id)s.%(source_id)s.%(experiment_id)s.%(member_id)s.%(table_id)s.%(variable_id)s.%(grid_label)s'\n",
       "      - CMIP6.%(activity_drs)s.%(institution_id)s.%(source_id)s.%(experiment_id)s.%(member_id)s.%(table_id)s.%(variable_id)s.%(grid_label)s\n",
       "      frequency:\n",
       "      - 1hr\n",
       "      - 1hrCM\n",
       "      - 3hr\n",
       "      - 3hrPt\n",
       "      - 6hr\n",
       "      - 6hrPt\n",
       "      - day\n",
       "      - dec\n",
       "      - fx\n",
       "      - mon\n",
       "      - monC\n",
       "      - monPt\n",
       "      - subhrPt\n",
       "      - yr\n",
       "      - yrPt\n",
       "      grid_label:\n",
       "      - gm\n",
       "      - gn\n",
       "      - gnz\n",
       "      - gr\n",
       "      - gr1\n",
       "      - gr1z\n",
       "      - gr2\n",
       "      - gr2z\n",
       "      - gr3\n",
       "      - gra\n",
       "      - grg\n",
       "      - grz\n",
       "      index_node:\n",
       "      - esgf-index4.ceda.ac.uk\n",
       "      metadata_format:\n",
       "      - THREDDS\n",
       "      mip_era:\n",
       "      - CMIP6\n",
       "      model_cohort:\n",
       "      - Registered\n",
       "      nominal_resolution:\n",
       "      - 10 km\n",
       "      - 100 km\n",
       "      - 10000 km\n",
       "      - 1x1 degree\n",
       "      - 200 km\n",
       "      - 25 km\n",
       "      - 250 km\n",
       "      - 2x2 degree\n",
       "      - 50 km\n",
       "      - 500 km\n",
       "      product:\n",
       "      - model-output\n",
       "      project:\n",
       "      - CMIP6\n",
       "      realm:\n",
       "      - aerosol\n",
       "      - atmos\n",
       "      - atmosChem\n",
       "      - land\n",
       "      - landIce\n",
       "      - ocean\n",
       "      - ocnBgChem\n",
       "      - ocnBgchem\n",
       "      - seaIce\n",
       "      - seaice\n",
       "      source_type:\n",
       "      - AER\n",
       "      - AGCM\n",
       "      - AOGCM\n",
       "      - AOGCM,AER\n",
       "      - BGC\n",
       "      - CHEM\n",
       "      - ISM\n",
       "      - LAND\n",
       "      - OGCM\n",
       "      - RAD\n",
       "    title: ''\n",
       "    type: Collection\n"
      ]
     },
     "metadata": {
      "application/json": {
       "root": "cmip6"
      }
     },
     "output_type": "display_data"
    }
   ],
   "source": [
    "cmip6_collection = intake.open_stac_collection(\"https://api.stac.ceda.ac.uk/collections/cmip6\")\n",
    "cmip6_collection"
   ]
  },
  {
   "cell_type": "markdown",
   "id": "fcbda4cf-323b-4c11-a3d1-07076065cc47",
   "metadata": {},
   "source": [
    "## cmip6 collection items"
   ]
  },
  {
   "cell_type": "code",
   "execution_count": 13,
   "id": "d7df5dd9-31db-4ef8-aa7f-9abfc4b17d76",
   "metadata": {},
   "outputs": [
    {
     "data": {
      "application/yaml": "<class 'pystac.item_collection.ItemCollection'>:\n  args:\n    stac_obj: https://api.stac.ceda.ac.uk/collections/cmip6/items\n  description: ''\n  driver: intake_stac.catalog.StacItemCollection\n  metadata: {}\n",
      "text/plain": [
       "<class 'pystac.item_collection.ItemCollection'>:\n",
       "  args:\n",
       "    stac_obj: https://api.stac.ceda.ac.uk/collections/cmip6/items\n",
       "  description: ''\n",
       "  driver: intake_stac.catalog.StacItemCollection\n",
       "  metadata: {}\n"
      ]
     },
     "metadata": {
      "application/json": {
       "root": "<class 'pystac.item_collection.ItemCollection'>"
      }
     },
     "output_type": "display_data"
    }
   ],
   "source": [
    "items = intake.open_stac_item_collection(\"https://api.stac.ceda.ac.uk/collections/cmip6/items\")\n",
    "items"
   ]
  },
  {
   "cell_type": "code",
   "execution_count": 14,
   "id": "1403f344-2232-4e19-a740-4fd1e59bdcc3",
   "metadata": {},
   "outputs": [
    {
     "data": {
      "text/plain": [
       "['60aad7abe7b6ac9f76b1e4c7c286447a',\n",
       " '3b511b059218a20d26bbcc825e3c6bf3',\n",
       " '1793fee54b5c658134e5242e0df60192',\n",
       " '17fa3b408e43b7ecd2ed238fe60172c0',\n",
       " 'a5b1fad1410e8d00bcd121218bc9950b',\n",
       " '28a0b5055a0d6d68137980b1c50b83d7',\n",
       " 'ff75d226ee7f641b2e3a67163ed7c6ea',\n",
       " 'bd01f7cfb6df63f657fbe7c33004b5dc',\n",
       " '967ded7699511d7ead5b5ea8c4591c7d',\n",
       " '0bedd67007e16664f7815af2f2fe1728']"
      ]
     },
     "execution_count": 14,
     "metadata": {},
     "output_type": "execute_result"
    }
   ],
   "source": [
    "list(items)"
   ]
  },
  {
   "cell_type": "code",
   "execution_count": 15,
   "id": "e3222037-32b4-4a6a-98cf-dce83579a422",
   "metadata": {},
   "outputs": [
    {
     "data": {
      "text/plain": [
       "'60aad7abe7b6ac9f76b1e4c7c286447a'"
      ]
     },
     "execution_count": 15,
     "metadata": {},
     "output_type": "execute_result"
    }
   ],
   "source": [
    "item_id = list(items)[0]\n",
    "item_id"
   ]
  },
  {
   "cell_type": "markdown",
   "id": "4d8f0fac-554c-4ca4-b60e-00853824302a",
   "metadata": {},
   "source": [
    "## cmip6 item"
   ]
  },
  {
   "cell_type": "code",
   "execution_count": 16,
   "id": "7e95f363-ab3b-4cd5-8a0d-41d9a99dad34",
   "metadata": {},
   "outputs": [
    {
     "data": {
      "application/yaml": "{}\n",
      "text/plain": [
       "{}\n"
      ]
     },
     "metadata": {
      "application/json": {
       "root": "60aad7abe7b6ac9f76b1e4c7c286447a"
      }
     },
     "output_type": "display_data"
    }
   ],
   "source": [
    "item = intake.open_stac_item(\"https://api.stac.ceda.ac.uk/collections/cmip6/items/60aad7abe7b6ac9f76b1e4c7c286447a\")\n",
    "item"
   ]
  }
 ],
 "metadata": {
  "kernelspec": {
   "display_name": "Python 3 (ipykernel)",
   "language": "python",
   "name": "python3"
  },
  "language_info": {
   "codemirror_mode": {
    "name": "ipython",
    "version": 3
   },
   "file_extension": ".py",
   "mimetype": "text/x-python",
   "name": "python",
   "nbconvert_exporter": "python",
   "pygments_lexer": "ipython3",
   "version": "3.10.5"
  }
 },
 "nbformat": 4,
 "nbformat_minor": 5
}
