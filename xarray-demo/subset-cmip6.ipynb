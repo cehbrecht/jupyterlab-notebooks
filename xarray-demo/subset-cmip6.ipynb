{
 "cells": [
  {
   "cell_type": "markdown",
   "metadata": {},
   "source": [
    "# Subset CMIP6 Datasets with xarray\n",
    "\n",
    "xarray: http://xarray.pydata.org/en/stable/index.html\n",
    "\n",
    "## Example Notebooks\n",
    "\n",
    "* xclim: https://nbviewer.jupyter.org/github/Ouranosinc/xclim/tree/master/docs/notebooks/"
   ]
  },
  {
   "cell_type": "markdown",
   "metadata": {},
   "source": [
    "## Search CMIP6 Dataset\n",
    "\n",
    "using: https://esgf-pyclient.readthedocs.io/en/latest/index.html"
   ]
  },
  {
   "cell_type": "markdown",
   "metadata": {},
   "source": [
    "**TODO**: Works currently only with Python 2.7\n",
    "\n"
   ]
  },
  {
   "cell_type": "markdown",
   "metadata": {},
   "source": [
    "## Subset single dataset with xarray\n",
    "\n",
    "Using OpenDAP: http://xarray.pydata.org/en/stable/io.html?highlight=opendap#opendap"
   ]
  },
  {
   "cell_type": "code",
   "execution_count": 29,
   "metadata": {},
   "outputs": [
    {
     "name": "stdout",
     "output_type": "stream",
     "text": [
      "<xarray.Dataset>\n",
      "Dimensions:    (bnds: 2, lat: 144, lon: 192, time: 1200)\n",
      "Coordinates:\n",
      "  * time       (time) object 1850-01-16 00:00:00 ... 1949-12-16 00:00:00\n",
      "  * lat        (lat) float64 -89.38 -88.12 -86.88 -85.62 ... 86.88 88.12 89.38\n",
      "  * lon        (lon) float64 0.9375 2.812 4.688 6.562 ... 355.3 357.2 359.1\n",
      "    height     float64 ...\n",
      "Dimensions without coordinates: bnds\n",
      "Data variables:\n",
      "    time_bnds  (time, bnds) object dask.array<shape=(1200, 2), chunksize=(1200, 2)>\n",
      "    lat_bnds   (lat, bnds) float64 dask.array<shape=(144, 2), chunksize=(144, 2)>\n",
      "    lon_bnds   (lon, bnds) float64 dask.array<shape=(192, 2), chunksize=(192, 2)>\n",
      "    tas        (time, lat, lon) float32 dask.array<shape=(1200, 144, 192), chunksize=(1200, 144, 192)>\n",
      "Attributes:\n",
      "    _NCProperties:                   version=1|netcdflibversion=4.4.1|hdf5lib...\n",
      "    Conventions:                     CF-1.7 CMIP-6.2\n",
      "    activity_id:                     CMIP\n",
      "    branch_method:                   standard\n",
      "    branch_time_in_child:            0.0\n",
      "    branch_time_in_parent:           144000.0\n",
      "    creation_date:                   2019-04-05T16:02:56Z\n",
      "    cv_version:                      6.2.20.1\n",
      "    data_specs_version:              01.00.29\n",
      "    experiment:                      all-forcing simulation of the recent past\n",
      "    experiment_id:                   historical\n",
      "    external_variables:              areacella\n",
      "    forcing_index:                   2\n",
      "    frequency:                       mon\n",
      "    further_info_url:                https://furtherinfo.es-doc.org/CMIP6.MOH...\n",
      "    grid:                            Native N96 grid; 192 x 144 longitude/lat...\n",
      "    grid_label:                      gn\n",
      "    history:                         2019-04-05T15:50:03Z ; CMOR rewrote data...\n",
      "    initialization_index:            1\n",
      "    institution:                     Met Office Hadley Centre, Fitzroy Road, ...\n",
      "    institution_id:                  MOHC\n",
      "    mip_era:                         CMIP6\n",
      "    mo_runid:                        u-bc179\n",
      "    nominal_resolution:              250 km\n",
      "    parent_activity_id:              CMIP\n",
      "    parent_experiment_id:            piControl\n",
      "    parent_mip_era:                  CMIP6\n",
      "    parent_source_id:                UKESM1-0-LL\n",
      "    parent_time_units:               days since 1850-01-01-00-00-00\n",
      "    parent_variant_label:            r1i1p1f2\n",
      "    physics_index:                   1\n",
      "    product:                         model-output\n",
      "    realization_index:               1\n",
      "    realm:                           atmos\n",
      "    source:                          UKESM1.0-LL (2018): \\naerosol: UKCA-GLOM...\n",
      "    source_id:                       UKESM1-0-LL\n",
      "    source_type:                     AOGCM AER BGC CHEM\n",
      "    sub_experiment:                  none\n",
      "    sub_experiment_id:               none\n",
      "    table_id:                        Amon\n",
      "    table_info:                      Creation Date:(13 December 2018) MD5:2b1...\n",
      "    title:                           UKESM1-0-LL output prepared for CMIP6\n",
      "    variable_id:                     tas\n",
      "    variant_label:                   r1i1p1f2\n",
      "    license:                         CMIP6 model data produced by the Met Off...\n",
      "    cmor_version:                    3.4.0\n",
      "    tracking_id:                     hdl:21.14100/255d149c-12fc-41f1-878d-034...\n",
      "    DODS_EXTRA.Unlimited_Dimension:  time\n"
     ]
    }
   ],
   "source": [
    "import xarray as xr\n",
    "ds = xr.open_dataset(files[0].opendap_url, chunks={'time': 1200})\n",
    "print(ds)"
   ]
  },
  {
   "cell_type": "code",
   "execution_count": 7,
   "metadata": {},
   "outputs": [],
   "source": [
    "da = ds['tas']\n",
    "da = da.isel(time=slice(0, 1))\n",
    "da = da.sel(lat=slice(-50, 50), lon=slice(0, 50))\n"
   ]
  },
  {
   "cell_type": "code",
   "execution_count": 8,
   "metadata": {},
   "outputs": [
    {
     "name": "stderr",
     "output_type": "stream",
     "text": [
      "/Users/pingu/.conda/envs/xrdemo/lib/python2.7/site-packages/IPython/core/formatters.py:364: FormatterWarning: image/png formatter returned invalid type <class 'matplotlib.collections.QuadMesh'> (expected (<type 'str'>, <type 'unicode'>)) for object: <IPython.core.display.Image object>\n",
      "  FormatterWarning\n"
     ]
    },
    {
     "data": {
      "text/plain": [
       "<IPython.core.display.Image object>"
      ]
     },
     "execution_count": 8,
     "metadata": {},
     "output_type": "execute_result"
    }
   ],
   "source": [
    "from IPython.display import Image\n",
    "Image(da.plot())"
   ]
  },
  {
   "cell_type": "markdown",
   "metadata": {},
   "source": [
    "## Subset over multiple datasets\n"
   ]
  },
  {
   "cell_type": "code",
   "execution_count": 19,
   "metadata": {},
   "outputs": [
    {
     "name": "stdout",
     "output_type": "stream",
     "text": [
      "<xarray.Dataset>\n",
      "Dimensions:    (bnds: 2, lat: 144, lon: 192, time: 1980)\n",
      "Coordinates:\n",
      "  * lat        (lat) float64 -89.38 -88.12 -86.88 -85.62 ... 86.88 88.12 89.38\n",
      "  * lon        (lon) float64 0.9375 2.812 4.688 6.562 ... 355.3 357.2 359.1\n",
      "    height     float64 1.5\n",
      "  * time       (time) object 1850-01-16 00:00:00 ... 2014-12-16 00:00:00\n",
      "Dimensions without coordinates: bnds\n",
      "Data variables:\n",
      "    time_bnds  (time, bnds) object dask.array<shape=(1980, 2), chunksize=(1200, 2)>\n",
      "    lat_bnds   (time, lat, bnds) float64 dask.array<shape=(1980, 144, 2), chunksize=(1200, 144, 2)>\n",
      "    lon_bnds   (time, lon, bnds) float64 dask.array<shape=(1980, 192, 2), chunksize=(1200, 192, 2)>\n",
      "    tas        (time, lat, lon) float32 dask.array<shape=(1980, 144, 192), chunksize=(1200, 144, 192)>\n",
      "Attributes:\n",
      "    _NCProperties:                   version=1|netcdflibversion=4.4.1|hdf5lib...\n",
      "    Conventions:                     CF-1.7 CMIP-6.2\n",
      "    activity_id:                     CMIP\n",
      "    branch_method:                   standard\n",
      "    branch_time_in_child:            0.0\n",
      "    branch_time_in_parent:           144000.0\n",
      "    creation_date:                   2019-04-05T16:02:56Z\n",
      "    cv_version:                      6.2.20.1\n",
      "    data_specs_version:              01.00.29\n",
      "    experiment:                      all-forcing simulation of the recent past\n",
      "    experiment_id:                   historical\n",
      "    external_variables:              areacella\n",
      "    forcing_index:                   2\n",
      "    frequency:                       mon\n",
      "    further_info_url:                https://furtherinfo.es-doc.org/CMIP6.MOH...\n",
      "    grid:                            Native N96 grid; 192 x 144 longitude/lat...\n",
      "    grid_label:                      gn\n",
      "    history:                         2019-04-05T15:50:03Z ; CMOR rewrote data...\n",
      "    initialization_index:            1\n",
      "    institution:                     Met Office Hadley Centre, Fitzroy Road, ...\n",
      "    institution_id:                  MOHC\n",
      "    mip_era:                         CMIP6\n",
      "    mo_runid:                        u-bc179\n",
      "    nominal_resolution:              250 km\n",
      "    parent_activity_id:              CMIP\n",
      "    parent_experiment_id:            piControl\n",
      "    parent_mip_era:                  CMIP6\n",
      "    parent_source_id:                UKESM1-0-LL\n",
      "    parent_time_units:               days since 1850-01-01-00-00-00\n",
      "    parent_variant_label:            r1i1p1f2\n",
      "    physics_index:                   1\n",
      "    product:                         model-output\n",
      "    realization_index:               1\n",
      "    realm:                           atmos\n",
      "    source:                          UKESM1.0-LL (2018): \\naerosol: UKCA-GLOM...\n",
      "    source_id:                       UKESM1-0-LL\n",
      "    source_type:                     AOGCM AER BGC CHEM\n",
      "    sub_experiment:                  none\n",
      "    sub_experiment_id:               none\n",
      "    table_id:                        Amon\n",
      "    table_info:                      Creation Date:(13 December 2018) MD5:2b1...\n",
      "    title:                           UKESM1-0-LL output prepared for CMIP6\n",
      "    variable_id:                     tas\n",
      "    variant_label:                   r1i1p1f2\n",
      "    license:                         CMIP6 model data produced by the Met Off...\n",
      "    cmor_version:                    3.4.0\n",
      "    tracking_id:                     hdl:21.14100/255d149c-12fc-41f1-878d-034...\n",
      "    DODS_EXTRA.Unlimited_Dimension:  time\n"
     ]
    }
   ],
   "source": [
    "ds_agg = xr.open_mfdataset([files[0].opendap_url, files[1].opendap_url], chunks={'time': 1980})\n",
    "print(ds_agg)"
   ]
  },
  {
   "cell_type": "code",
   "execution_count": 27,
   "metadata": {},
   "outputs": [],
   "source": [
    "da = ds_agg['tas']\n",
    "da = da.isel(time=slice(1198, 1199))\n",
    "da = da.sel(lat=slice(-50, 50), lon=slice(0, 50))"
   ]
  },
  {
   "cell_type": "code",
   "execution_count": 28,
   "metadata": {},
   "outputs": [
    {
     "data": {
      "text/plain": [
       "<IPython.core.display.Image object>"
      ]
     },
     "execution_count": 28,
     "metadata": {},
     "output_type": "execute_result"
    },
    {
     "data": {
      "image/png": "[encoded data removed]",
      "text/plain": [
       "<Figure size 432x288 with 2 Axes>"
      ]
     },
     "metadata": {
      "needs_background": "light"
     },
     "output_type": "display_data"
    }
   ],
   "source": [
    "Image(da.plot())"
   ]
  },
  {
   "cell_type": "code",
   "execution_count": null,
   "metadata": {},
   "outputs": [],
   "source": []
  }
 ],
 "metadata": {
  "kernelspec": {
   "display_name": "Python 3",
   "language": "python",
   "name": "python3"
  },
  "language_info": {
   "codemirror_mode": {
    "name": "ipython",
    "version": 3
   },
   "file_extension": ".py",
   "mimetype": "text/x-python",
   "name": "python",
   "nbconvert_exporter": "python",
   "pygments_lexer": "ipython3",
   "version": "3.7.3"
  }
 },
 "nbformat": 4,
 "nbformat_minor": 2
}
