{
 "cells": [
  {
   "cell_type": "markdown",
   "metadata": {},
   "source": [
    "# Subset CMIP6 Datasets with xarray\n",
    "\n",
    "xarray: http://xarray.pydata.org/en/stable/index.html\n",
    "\n",
    "## Example Notebooks\n",
    "\n",
    "* xclim: https://nbviewer.jupyter.org/github/Ouranosinc/xclim/tree/master/docs/notebooks/"
   ]
  },
  {
   "cell_type": "markdown",
   "metadata": {},
   "source": [
    "## Search CMIP6 Dataset\n",
    "\n",
    "using: https://esgf-pyclient.readthedocs.io/en/latest/index.html"
   ]
  },
  {
   "cell_type": "markdown",
   "metadata": {},
   "source": [
    "**TODO**: Works currently only with Python 2.7\n",
    "\n",
    "https://nbviewer.jupyter.org/github/cehbrecht/jupyterlab-notebooks/blob/master/esgf-cmip6-demo/search-cmip6.ipynb\n",
    "\n"
   ]
  },
  {
   "cell_type": "code",
   "execution_count": 1,
   "metadata": {},
   "outputs": [],
   "source": [
    "files = [\n",
    "'http://esgf-data3.ceda.ac.uk/thredds/dodsC/esg_cmip6/CMIP6/CMIP/MOHC/UKESM1-0-LL/historical/r1i1p1f2/Amon/tas/gn/v20190406/tas_Amon_UKESM1-0-LL_historical_r1i1p1f2_gn_185001-194912.nc',\n",
    "'http://esgf-data3.ceda.ac.uk/thredds/dodsC/esg_cmip6/CMIP6/CMIP/MOHC/UKESM1-0-LL/historical/r1i1p1f2/Amon/tas/gn/v20190406/tas_Amon_UKESM1-0-LL_historical_r1i1p1f2_gn_195001-201412.nc'\n",
    "]"
   ]
  },
  {
   "cell_type": "markdown",
   "metadata": {},
   "source": [
    "## Subset single dataset with xarray\n",
    "\n",
    "Using OpenDAP: http://xarray.pydata.org/en/stable/io.html?highlight=opendap#opendap"
   ]
  },
  {
   "cell_type": "code",
   "execution_count": 2,
   "metadata": {},
   "outputs": [
    {
     "name": "stdout",
     "output_type": "stream",
     "text": [
      "<xarray.Dataset>\n",
      "Dimensions:    (bnds: 2, lat: 144, lon: 192, time: 1200)\n",
      "Coordinates:\n",
      "  * time       (time) object 1850-01-16 00:00:00 ... 1949-12-16 00:00:00\n",
      "  * lat        (lat) float64 -89.38 -88.12 -86.88 -85.62 ... 86.88 88.12 89.38\n",
      "  * lon        (lon) float64 0.9375 2.812 4.688 6.562 ... 355.3 357.2 359.1\n",
      "    height     float64 ...\n",
      "Dimensions without coordinates: bnds\n",
      "Data variables:\n",
      "    time_bnds  (time, bnds) object dask.array<shape=(1200, 2), chunksize=(1200, 2)>\n",
      "    lat_bnds   (lat, bnds) float64 dask.array<shape=(144, 2), chunksize=(144, 2)>\n",
      "    lon_bnds   (lon, bnds) float64 dask.array<shape=(192, 2), chunksize=(192, 2)>\n",
      "    tas        (time, lat, lon) float32 dask.array<shape=(1200, 144, 192), chunksize=(1200, 144, 192)>\n",
      "Attributes:\n",
      "    _NCProperties:                   version=1|netcdflibversion=4.4.1|hdf5lib...\n",
      "    Conventions:                     CF-1.7 CMIP-6.2\n",
      "    activity_id:                     CMIP\n",
      "    branch_method:                   standard\n",
      "    branch_time_in_child:            0.0\n",
      "    branch_time_in_parent:           144000.0\n",
      "    creation_date:                   2019-04-05T16:02:56Z\n",
      "    cv_version:                      6.2.20.1\n",
      "    data_specs_version:              01.00.29\n",
      "    experiment:                      all-forcing simulation of the recent past\n",
      "    experiment_id:                   historical\n",
      "    external_variables:              areacella\n",
      "    forcing_index:                   2\n",
      "    frequency:                       mon\n",
      "    further_info_url:                https://furtherinfo.es-doc.org/CMIP6.MOH...\n",
      "    grid:                            Native N96 grid; 192 x 144 longitude/lat...\n",
      "    grid_label:                      gn\n",
      "    history:                         2019-04-05T15:50:03Z ; CMOR rewrote data...\n",
      "    initialization_index:            1\n",
      "    institution:                     Met Office Hadley Centre, Fitzroy Road, ...\n",
      "    institution_id:                  MOHC\n",
      "    mip_era:                         CMIP6\n",
      "    mo_runid:                        u-bc179\n",
      "    nominal_resolution:              250 km\n",
      "    parent_activity_id:              CMIP\n",
      "    parent_experiment_id:            piControl\n",
      "    parent_mip_era:                  CMIP6\n",
      "    parent_source_id:                UKESM1-0-LL\n",
      "    parent_time_units:               days since 1850-01-01-00-00-00\n",
      "    parent_variant_label:            r1i1p1f2\n",
      "    physics_index:                   1\n",
      "    product:                         model-output\n",
      "    realization_index:               1\n",
      "    realm:                           atmos\n",
      "    source:                          UKESM1.0-LL (2018): \\naerosol: UKCA-GLOM...\n",
      "    source_id:                       UKESM1-0-LL\n",
      "    source_type:                     AOGCM AER BGC CHEM\n",
      "    sub_experiment:                  none\n",
      "    sub_experiment_id:               none\n",
      "    table_id:                        Amon\n",
      "    table_info:                      Creation Date:(13 December 2018) MD5:2b1...\n",
      "    title:                           UKESM1-0-LL output prepared for CMIP6\n",
      "    variable_id:                     tas\n",
      "    variant_label:                   r1i1p1f2\n",
      "    license:                         CMIP6 model data produced by the Met Off...\n",
      "    cmor_version:                    3.4.0\n",
      "    tracking_id:                     hdl:21.14100/255d149c-12fc-41f1-878d-034...\n",
      "    DODS_EXTRA.Unlimited_Dimension:  time\n"
     ]
    }
   ],
   "source": [
    "import xarray as xr\n",
    "ds = xr.open_dataset(files[0], chunks={'time': 1200})\n",
    "print(ds)"
   ]
  },
  {
   "cell_type": "code",
   "execution_count": 3,
   "metadata": {},
   "outputs": [],
   "source": [
    "da = ds['tas']\n",
    "da = da.isel(time=slice(0, 1))\n",
    "da = da.sel(lat=slice(-50, 50), lon=slice(0, 50))\n"
   ]
  },
  {
   "cell_type": "code",
   "execution_count": 4,
   "metadata": {},
   "outputs": [
    {
     "data": {
      "text/plain": [
       "<matplotlib.collections.QuadMesh at 0x3210f37f0>"
      ]
     },
     "execution_count": 4,
     "metadata": {},
     "output_type": "execute_result"
    },
    {
     "data": {
      "image/png": "[encoded data removed]",
      "text/plain": [
       "<Figure size 432x288 with 2 Axes>"
      ]
     },
     "metadata": {
      "needs_background": "light"
     },
     "output_type": "display_data"
    }
   ],
   "source": [
    "%matplotlib inline\n",
    "da.plot()"
   ]
  },
  {
   "cell_type": "markdown",
   "metadata": {},
   "source": [
    "## Subset over multiple datasets\n"
   ]
  },
  {
   "cell_type": "code",
   "execution_count": 5,
   "metadata": {},
   "outputs": [
    {
     "name": "stdout",
     "output_type": "stream",
     "text": [
      "<xarray.Dataset>\n",
      "Dimensions:    (bnds: 2, lat: 144, lon: 192, time: 1980)\n",
      "Coordinates:\n",
      "  * lat        (lat) float64 -89.38 -88.12 -86.88 -85.62 ... 86.88 88.12 89.38\n",
      "  * lon        (lon) float64 0.9375 2.812 4.688 6.562 ... 355.3 357.2 359.1\n",
      "    height     float64 1.5\n",
      "  * time       (time) object 1850-01-16 00:00:00 ... 2014-12-16 00:00:00\n",
      "Dimensions without coordinates: bnds\n",
      "Data variables:\n",
      "    time_bnds  (time, bnds) object dask.array<shape=(1980, 2), chunksize=(1200, 2)>\n",
      "    lat_bnds   (time, lat, bnds) float64 dask.array<shape=(1980, 144, 2), chunksize=(1200, 144, 2)>\n",
      "    lon_bnds   (time, lon, bnds) float64 dask.array<shape=(1980, 192, 2), chunksize=(1200, 192, 2)>\n",
      "    tas        (time, lat, lon) float32 dask.array<shape=(1980, 144, 192), chunksize=(1200, 144, 192)>\n",
      "Attributes:\n",
      "    _NCProperties:                   version=1|netcdflibversion=4.4.1|hdf5lib...\n",
      "    Conventions:                     CF-1.7 CMIP-6.2\n",
      "    activity_id:                     CMIP\n",
      "    branch_method:                   standard\n",
      "    branch_time_in_child:            0.0\n",
      "    branch_time_in_parent:           144000.0\n",
      "    creation_date:                   2019-04-05T16:02:56Z\n",
      "    cv_version:                      6.2.20.1\n",
      "    data_specs_version:              01.00.29\n",
      "    experiment:                      all-forcing simulation of the recent past\n",
      "    experiment_id:                   historical\n",
      "    external_variables:              areacella\n",
      "    forcing_index:                   2\n",
      "    frequency:                       mon\n",
      "    further_info_url:                https://furtherinfo.es-doc.org/CMIP6.MOH...\n",
      "    grid:                            Native N96 grid; 192 x 144 longitude/lat...\n",
      "    grid_label:                      gn\n",
      "    history:                         2019-04-05T15:50:03Z ; CMOR rewrote data...\n",
      "    initialization_index:            1\n",
      "    institution:                     Met Office Hadley Centre, Fitzroy Road, ...\n",
      "    institution_id:                  MOHC\n",
      "    mip_era:                         CMIP6\n",
      "    mo_runid:                        u-bc179\n",
      "    nominal_resolution:              250 km\n",
      "    parent_activity_id:              CMIP\n",
      "    parent_experiment_id:            piControl\n",
      "    parent_mip_era:                  CMIP6\n",
      "    parent_source_id:                UKESM1-0-LL\n",
      "    parent_time_units:               days since 1850-01-01-00-00-00\n",
      "    parent_variant_label:            r1i1p1f2\n",
      "    physics_index:                   1\n",
      "    product:                         model-output\n",
      "    realization_index:               1\n",
      "    realm:                           atmos\n",
      "    source:                          UKESM1.0-LL (2018): \\naerosol: UKCA-GLOM...\n",
      "    source_id:                       UKESM1-0-LL\n",
      "    source_type:                     AOGCM AER BGC CHEM\n",
      "    sub_experiment:                  none\n",
      "    sub_experiment_id:               none\n",
      "    table_id:                        Amon\n",
      "    table_info:                      Creation Date:(13 December 2018) MD5:2b1...\n",
      "    title:                           UKESM1-0-LL output prepared for CMIP6\n",
      "    variable_id:                     tas\n",
      "    variant_label:                   r1i1p1f2\n",
      "    license:                         CMIP6 model data produced by the Met Off...\n",
      "    cmor_version:                    3.4.0\n",
      "    tracking_id:                     hdl:21.14100/255d149c-12fc-41f1-878d-034...\n",
      "    DODS_EXTRA.Unlimited_Dimension:  time\n"
     ]
    }
   ],
   "source": [
    "ds_agg = xr.open_mfdataset([files[0], files[1]], chunks={'time': 1980})\n",
    "print(ds_agg)"
   ]
  },
  {
   "cell_type": "code",
   "execution_count": 6,
   "metadata": {},
   "outputs": [],
   "source": [
    "da = ds_agg['tas']\n",
    "da = da.isel(time=slice(1200, 1201))\n",
    "da = da.sel(lat=slice(-50, 50), lon=slice(0, 50))"
   ]
  },
  {
   "cell_type": "code",
   "execution_count": 7,
   "metadata": {},
   "outputs": [
    {
     "data": {
      "text/plain": [
       "<matplotlib.collections.QuadMesh at 0x3213545f8>"
      ]
     },
     "execution_count": 7,
     "metadata": {},
     "output_type": "execute_result"
    },
    {
     "data": {
      "image/png": "[encoded data removed]",
      "text/plain": [
       "<Figure size 432x288 with 2 Axes>"
      ]
     },
     "metadata": {
      "needs_background": "light"
     },
     "output_type": "display_data"
    }
   ],
   "source": [
    "da.plot()"
   ]
  },
  {
   "cell_type": "markdown",
   "metadata": {},
   "source": [
    "## Regrid with xESMF\n",
    "\n",
    "xESMF based on xarray: https://xesmf.readthedocs.io/en/latest/Rectilinear_grid.html"
   ]
  },
  {
   "cell_type": "markdown",
   "metadata": {},
   "source": [
    "### Input Grid\n",
    "\n",
    "Grid resolution: 1.25 x 1.875"
   ]
  },
  {
   "cell_type": "code",
   "execution_count": 8,
   "metadata": {},
   "outputs": [
    {
     "data": {
      "text/plain": [
       "(array([-89.375, -88.125, -86.875, -85.625, -84.375, -83.125, -81.875,\n",
       "        -80.625, -79.375, -78.125, -76.875, -75.625, -74.375, -73.125,\n",
       "        -71.875, -70.625, -69.375, -68.125, -66.875, -65.625, -64.375,\n",
       "        -63.125, -61.875, -60.625, -59.375, -58.125, -56.875, -55.625,\n",
       "        -54.375, -53.125, -51.875, -50.625, -49.375, -48.125, -46.875,\n",
       "        -45.625, -44.375, -43.125, -41.875, -40.625, -39.375, -38.125,\n",
       "        -36.875, -35.625, -34.375, -33.125, -31.875, -30.625, -29.375,\n",
       "        -28.125, -26.875, -25.625, -24.375, -23.125, -21.875, -20.625,\n",
       "        -19.375, -18.125, -16.875, -15.625, -14.375, -13.125, -11.875,\n",
       "        -10.625,  -9.375,  -8.125,  -6.875,  -5.625,  -4.375,  -3.125,\n",
       "         -1.875,  -0.625,   0.625,   1.875,   3.125,   4.375,   5.625,\n",
       "          6.875,   8.125,   9.375,  10.625,  11.875,  13.125,  14.375,\n",
       "         15.625,  16.875,  18.125,  19.375,  20.625,  21.875,  23.125,\n",
       "         24.375,  25.625,  26.875,  28.125,  29.375,  30.625,  31.875,\n",
       "         33.125,  34.375,  35.625,  36.875,  38.125,  39.375,  40.625,\n",
       "         41.875,  43.125,  44.375,  45.625,  46.875,  48.125,  49.375,\n",
       "         50.625,  51.875,  53.125,  54.375,  55.625,  56.875,  58.125,\n",
       "         59.375,  60.625,  61.875,  63.125,  64.375,  65.625,  66.875,\n",
       "         68.125,  69.375,  70.625,  71.875,  73.125,  74.375,  75.625,\n",
       "         76.875,  78.125,  79.375,  80.625,  81.875,  83.125,  84.375,\n",
       "         85.625,  86.875,  88.125,  89.375]),\n",
       " array([  0.9375,   2.8125,   4.6875,   6.5625,   8.4375,  10.3125,\n",
       "         12.1875,  14.0625,  15.9375,  17.8125,  19.6875,  21.5625,\n",
       "         23.4375,  25.3125,  27.1875,  29.0625,  30.9375,  32.8125,\n",
       "         34.6875,  36.5625,  38.4375,  40.3125,  42.1875,  44.0625,\n",
       "         45.9375,  47.8125,  49.6875,  51.5625,  53.4375,  55.3125,\n",
       "         57.1875,  59.0625,  60.9375,  62.8125,  64.6875,  66.5625,\n",
       "         68.4375,  70.3125,  72.1875,  74.0625,  75.9375,  77.8125,\n",
       "         79.6875,  81.5625,  83.4375,  85.3125,  87.1875,  89.0625,\n",
       "         90.9375,  92.8125,  94.6875,  96.5625,  98.4375, 100.3125,\n",
       "        102.1875, 104.0625, 105.9375, 107.8125, 109.6875, 111.5625,\n",
       "        113.4375, 115.3125, 117.1875, 119.0625, 120.9375, 122.8125,\n",
       "        124.6875, 126.5625, 128.4375, 130.3125, 132.1875, 134.0625,\n",
       "        135.9375, 137.8125, 139.6875, 141.5625, 143.4375, 145.3125,\n",
       "        147.1875, 149.0625, 150.9375, 152.8125, 154.6875, 156.5625,\n",
       "        158.4375, 160.3125, 162.1875, 164.0625, 165.9375, 167.8125,\n",
       "        169.6875, 171.5625, 173.4375, 175.3125, 177.1875, 179.0625,\n",
       "        180.9375, 182.8125, 184.6875, 186.5625, 188.4375, 190.3125,\n",
       "        192.1875, 194.0625, 195.9375, 197.8125, 199.6875, 201.5625,\n",
       "        203.4375, 205.3125, 207.1875, 209.0625, 210.9375, 212.8125,\n",
       "        214.6875, 216.5625, 218.4375, 220.3125, 222.1875, 224.0625,\n",
       "        225.9375, 227.8125, 229.6875, 231.5625, 233.4375, 235.3125,\n",
       "        237.1875, 239.0625, 240.9375, 242.8125, 244.6875, 246.5625,\n",
       "        248.4375, 250.3125, 252.1875, 254.0625, 255.9375, 257.8125,\n",
       "        259.6875, 261.5625, 263.4375, 265.3125, 267.1875, 269.0625,\n",
       "        270.9375, 272.8125, 274.6875, 276.5625, 278.4375, 280.3125,\n",
       "        282.1875, 284.0625, 285.9375, 287.8125, 289.6875, 291.5625,\n",
       "        293.4375, 295.3125, 297.1875, 299.0625, 300.9375, 302.8125,\n",
       "        304.6875, 306.5625, 308.4375, 310.3125, 312.1875, 314.0625,\n",
       "        315.9375, 317.8125, 319.6875, 321.5625, 323.4375, 325.3125,\n",
       "        327.1875, 329.0625, 330.9375, 332.8125, 334.6875, 336.5625,\n",
       "        338.4375, 340.3125, 342.1875, 344.0625, 345.9375, 347.8125,\n",
       "        349.6875, 351.5625, 353.4375, 355.3125, 357.1875, 359.0625]))"
      ]
     },
     "execution_count": 8,
     "metadata": {},
     "output_type": "execute_result"
    }
   ],
   "source": [
    "ds['lat'].values, ds['lon'].values"
   ]
  },
  {
   "cell_type": "markdown",
   "metadata": {},
   "source": [
    "### Output Grid\n",
    "\n",
    "resample to 2.5x3.75"
   ]
  },
  {
   "cell_type": "code",
   "execution_count": 9,
   "metadata": {},
   "outputs": [
    {
     "data": {
      "text/plain": [
       "<xarray.Dataset>\n",
       "Dimensions:  (lat: 72, lon: 96)\n",
       "Coordinates:\n",
       "  * lat      (lat) float64 -89.38 -86.88 -84.38 -81.88 ... 83.12 85.62 88.12\n",
       "  * lon      (lon) float64 0.9375 4.688 8.438 12.19 ... 345.9 349.7 353.4 357.2\n",
       "Data variables:\n",
       "    *empty*"
      ]
     },
     "execution_count": 9,
     "metadata": {},
     "output_type": "execute_result"
    }
   ],
   "source": [
    "import numpy as np\n",
    "\n",
    "ds_out = xr.Dataset({'lat': (['lat'], np.arange(-89.375, 89.375, 2.5)),\n",
    "                     'lon': (['lon'], np.arange(0.9375, 359.0625, 3.75)),\n",
    "                    }\n",
    "                   )\n",
    "ds_out"
   ]
  },
  {
   "cell_type": "markdown",
   "metadata": {},
   "source": [
    "### Perform Regridder"
   ]
  },
  {
   "cell_type": "code",
   "execution_count": 10,
   "metadata": {},
   "outputs": [
    {
     "name": "stdout",
     "output_type": "stream",
     "text": [
      "Overwrite existing file: bilinear_144x192_72x96.nc \n",
      " You can set reuse_weights=True to save computing time.\n"
     ]
    },
    {
     "data": {
      "text/plain": [
       "xESMF Regridder \n",
       "Regridding algorithm:       bilinear \n",
       "Weight filename:            bilinear_144x192_72x96.nc \n",
       "Reuse pre-computed weights? False \n",
       "Input grid shape:           (144, 192) \n",
       "Output grid shape:          (72, 96) \n",
       "Output grid dimension name: ('lat', 'lon') \n",
       "Periodic in longitude?      False"
      ]
     },
     "execution_count": 10,
     "metadata": {},
     "output_type": "execute_result"
    }
   ],
   "source": [
    "import xesmf as xe\n",
    "\n",
    "regridder = xe.Regridder(ds, ds_out, 'bilinear')\n",
    "regridder"
   ]
  },
  {
   "cell_type": "code",
   "execution_count": 11,
   "metadata": {},
   "outputs": [
    {
     "data": {
      "text/plain": [
       "<xarray.DataArray 'tas' (time: 1200, lat: 72, lon: 96)>\n",
       "array([[[249.444824, 249.425293, ..., 249.450684, 249.444092],\n",
       "        [251.668945, 251.371826, ..., 252.27417 , 251.981934],\n",
       "        ...,\n",
       "        [262.031006, 262.309814, ..., 260.299072, 261.303711],\n",
       "        [258.253662, 258.414307, ..., 257.937988, 258.108887]],\n",
       "\n",
       "       [[234.799072, 234.805664, ..., 234.819824, 234.795166],\n",
       "        [236.866943, 236.560791, ..., 237.616211, 237.206543],\n",
       "        ...,\n",
       "        [239.421875, 239.609619, ..., 238.752686, 239.195801],\n",
       "        [238.116943, 238.225342, ..., 237.863037, 238.004883]],\n",
       "\n",
       "       ...,\n",
       "\n",
       "       [[240.903564, 240.887695, ..., 240.941162, 240.937744],\n",
       "        [239.949219, 239.637207, ..., 240.62915 , 240.225342],\n",
       "        ...,\n",
       "        [247.276611, 247.085938, ..., 247.646729, 247.48584 ],\n",
       "        [244.712891, 244.73999 , ..., 244.76001 , 244.733398]],\n",
       "\n",
       "       [[248.209229, 248.202637, ..., 248.219727, 248.210449],\n",
       "        [249.376953, 249.134277, ..., 249.747803, 249.584961],\n",
       "        ...,\n",
       "        [238.369629, 238.704102, ..., 237.861816, 238.043701],\n",
       "        [237.954346, 238.036621, ..., 237.808105, 237.86377 ]]])\n",
       "Coordinates:\n",
       "  * lon      (lon) float64 0.9375 4.688 8.438 12.19 ... 345.9 349.7 353.4 357.2\n",
       "  * lat      (lat) float64 -89.38 -86.88 -84.38 -81.88 ... 83.12 85.62 88.12\n",
       "    height   float64 ...\n",
       "  * time     (time) object 1850-01-16 00:00:00 ... 1949-12-16 00:00:00\n",
       "Attributes:\n",
       "    regrid_method:  bilinear"
      ]
     },
     "execution_count": 11,
     "metadata": {},
     "output_type": "execute_result"
    }
   ],
   "source": [
    "da_out = regridder(ds.tas)\n",
    "da_out"
   ]
  },
  {
   "cell_type": "code",
   "execution_count": 12,
   "metadata": {},
   "outputs": [
    {
     "data": {
      "text/plain": [
       "<matplotlib.collections.QuadMesh at 0x3244fdd68>"
      ]
     },
     "execution_count": 12,
     "metadata": {},
     "output_type": "execute_result"
    },
    {
     "data": {
      "image/png": "[encoded data removed]",
      "text/plain": [
       "<Figure size 432x288 with 2 Axes>"
      ]
     },
     "metadata": {
      "needs_background": "light"
     },
     "output_type": "display_data"
    }
   ],
   "source": [
    "da_out.isel(time=0).plot()"
   ]
  }
 ],
 "metadata": {
  "kernelspec": {
   "display_name": "Python 3",
   "language": "python",
   "name": "python3"
  },
  "language_info": {
   "codemirror_mode": {
    "name": "ipython",
    "version": 3
   },
   "file_extension": ".py",
   "mimetype": "text/x-python",
   "name": "python",
   "nbconvert_exporter": "python",
   "pygments_lexer": "ipython3",
   "version": "3.7.3"
  }
 },
 "nbformat": 4,
 "nbformat_minor": 2
}
