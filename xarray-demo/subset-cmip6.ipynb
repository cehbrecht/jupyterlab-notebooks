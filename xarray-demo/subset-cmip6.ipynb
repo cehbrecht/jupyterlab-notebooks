{
 "cells": [
  {
   "cell_type": "markdown",
   "metadata": {},
   "source": [
    "# Subset CMIP6 Datasets with xarray\n",
    "\n",
    "xarray: http://xarray.pydata.org/en/stable/index.html\n",
    "\n",
    "## Example Notebooks\n",
    "\n",
    "* xclim: https://nbviewer.jupyter.org/github/Ouranosinc/xclim/tree/master/docs/notebooks/"
   ]
  },
  {
   "cell_type": "markdown",
   "metadata": {},
   "source": [
    "## Search CMIP6 Dataset\n",
    "\n",
    "using: https://esgf-pyclient.readthedocs.io/en/latest/index.html"
   ]
  },
  {
   "cell_type": "code",
   "execution_count": null,
   "metadata": {},
   "outputs": [],
   "source": [
    "from pyesgf.search import SearchConnection\n",
    "conn = SearchConnection('https://esgf-data.dkrz.de/esg-search', distrib=True)"
   ]
  },
  {
   "cell_type": "code",
   "execution_count": null,
   "metadata": {},
   "outputs": [],
   "source": [
    "ctx = conn.new_context(\n",
    "    project='CMIP6', \n",
    "    source_id='UKESM1-0-LL', \n",
    "    experiment_id='historical', \n",
    "    variable='tas', \n",
    "    frequency='mon', \n",
    "    variant_label='r1i1p1f2')\n",
    "ctx.hit_count"
   ]
  },
  {
   "cell_type": "code",
   "execution_count": null,
   "metadata": {},
   "outputs": [],
   "source": [
    "result = ctx.search()[1]\n",
    "result.dataset_id"
   ]
  },
  {
   "cell_type": "code",
   "execution_count": null,
   "metadata": {},
   "outputs": [],
   "source": [
    "files = result.file_context().search()\n",
    "for file in files:\n",
    "    print(file.opendap_url)"
   ]
  },
  {
   "cell_type": "markdown",
   "metadata": {},
   "source": [
    "## Subset single dataset with xarray\n",
    "\n",
    "Using OpenDAP: http://xarray.pydata.org/en/stable/io.html?highlight=opendap#opendap"
   ]
  },
  {
   "cell_type": "code",
   "execution_count": null,
   "metadata": {},
   "outputs": [],
   "source": [
    "import xarray as xr\n",
    "ds = xr.open_dataset(files[0].opendap_url, chunks={'time': 1200})\n",
    "print(ds)"
   ]
  },
  {
   "cell_type": "code",
   "execution_count": null,
   "metadata": {},
   "outputs": [],
   "source": [
    "da = ds['tas']\n",
    "da = da.isel(time=slice(0, 1))\n",
    "da = da.sel(lat=slice(-50, 50), lon=slice(0, 50))\n"
   ]
  },
  {
   "cell_type": "code",
   "execution_count": null,
   "metadata": {},
   "outputs": [],
   "source": [
    "%matplotlib inline\n",
    "da.plot()"
   ]
  },
  {
   "cell_type": "markdown",
   "metadata": {},
   "source": [
    "## Subset over multiple datasets\n"
   ]
  },
  {
   "cell_type": "code",
   "execution_count": null,
   "metadata": {},
   "outputs": [],
   "source": [
    "ds_agg = xr.open_mfdataset([files[0].opendap_url, files[1].opendap_url], chunks={'time': 1980})\n",
    "print(ds_agg)"
   ]
  },
  {
   "cell_type": "code",
   "execution_count": null,
   "metadata": {},
   "outputs": [],
   "source": [
    "da = ds_agg['tas']\n",
    "da = da.isel(time=slice(1200, 1201))\n",
    "da = da.sel(lat=slice(-50, 50), lon=slice(0, 50))"
   ]
  },
  {
   "cell_type": "code",
   "execution_count": null,
   "metadata": {},
   "outputs": [],
   "source": [
    "da.plot()"
   ]
  },
  {
   "cell_type": "markdown",
   "metadata": {},
   "source": [
    "## Regrid with xESMF\n",
    "\n",
    "xESMF based on xarray: https://xesmf.readthedocs.io/en/latest/Rectilinear_grid.html"
   ]
  },
  {
   "cell_type": "markdown",
   "metadata": {},
   "source": [
    "### Input Grid\n",
    "\n",
    "Grid resolution: 1.25 x 1.875"
   ]
  },
  {
   "cell_type": "code",
   "execution_count": null,
   "metadata": {},
   "outputs": [],
   "source": [
    "ds['lat'].values, ds['lon'].values"
   ]
  },
  {
   "cell_type": "markdown",
   "metadata": {},
   "source": [
    "### Output Grid\n",
    "\n",
    "resample to 2.5x3.75"
   ]
  },
  {
   "cell_type": "code",
   "execution_count": null,
   "metadata": {},
   "outputs": [],
   "source": [
    "import numpy as np\n",
    "\n",
    "ds_out = xr.Dataset({'lat': (['lat'], np.arange(-89.375, 89.375, 2.5)),\n",
    "                     'lon': (['lon'], np.arange(0.9375, 359.0625, 3.75)),\n",
    "                    }\n",
    "                   )\n",
    "ds_out"
   ]
  },
  {
   "cell_type": "markdown",
   "metadata": {},
   "source": [
    "### Perform Regridder"
   ]
  },
  {
   "cell_type": "code",
   "execution_count": null,
   "metadata": {},
   "outputs": [],
   "source": [
    "import xesmf as xe\n",
    "\n",
    "regridder = xe.Regridder(ds, ds_out, 'bilinear')\n",
    "regridder"
   ]
  },
  {
   "cell_type": "code",
   "execution_count": null,
   "metadata": {},
   "outputs": [],
   "source": [
    "da_out = regridder(ds.tas)\n",
    "da_out"
   ]
  },
  {
   "cell_type": "code",
   "execution_count": null,
   "metadata": {},
   "outputs": [],
   "source": [
    "da_out.isel(time=0).plot()"
   ]
  }
 ],
 "metadata": {
  "kernelspec": {
   "display_name": "Python 3",
   "language": "python",
   "name": "python3"
  },
  "language_info": {
   "codemirror_mode": {
    "name": "ipython",
    "version": 3
   },
   "file_extension": ".py",
   "mimetype": "text/x-python",
   "name": "python",
   "nbconvert_exporter": "python",
   "pygments_lexer": "ipython3",
   "version": "3.7.3"
  }
 },
 "nbformat": 4,
 "nbformat_minor": 4
}
