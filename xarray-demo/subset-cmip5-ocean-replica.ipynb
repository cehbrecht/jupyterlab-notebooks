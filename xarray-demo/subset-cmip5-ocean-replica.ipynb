{
 "cells": [
  {
   "cell_type": "markdown",
   "metadata": {},
   "source": [
    "# Subset CMIP5 Datasets with xarray (ocean replica)\n",
    "\n",
    "xarray: http://xarray.pydata.org/en/stable/index.html\n",
    "\n",
    "Ocean data with opendap:\n",
    "\n",
    "https://aims3.llnl.gov/thredds/dodsC/cmip5_css01_data/cmip5/output1/NOAA-GFDL/GFDL-HIRAM-C360/sst2030/mon/ocean/Omon/r3i1p1/v20110601/tos/tos_Omon_GFDL-HIRAM-C360_sst2030_r3i1p1_202601-203012.nc.html\n"
   ]
  },
  {
   "cell_type": "markdown",
   "metadata": {},
   "source": [
    "## Search CMIP5 Dataset\n",
    "\n",
    "using: https://esgf-pyclient.readthedocs.io/en/latest/index.html"
   ]
  },
  {
   "cell_type": "code",
   "execution_count": null,
   "metadata": {},
   "outputs": [],
   "source": [
    "from pyesgf.search import SearchConnection\n",
    "conn = SearchConnection('https://esgf-data.dkrz.de/esg-search', distrib=True)\n"
   ]
  },
  {
   "cell_type": "code",
   "execution_count": null,
   "metadata": {},
   "outputs": [],
   "source": [
    "ctx = conn.new_context(\n",
    "    project='CMIP5', \n",
    "    experiment='sst2030',\n",
    "    model='GFDL-HIRAM-C360',\n",
    "    ensemble='r3i1p1',\n",
    "    time_frequency='mon',\n",
    "    realm='ocean',\n",
    "    #data_node='aims3.llnl.gov',\n",
    "    #replica=False,\n",
    "    )\n",
    "ctx.hit_count"
   ]
  },
  {
   "cell_type": "code",
   "execution_count": null,
   "metadata": {},
   "outputs": [],
   "source": [
    "for result in ctx.search():\n",
    "    print(result.dataset_id)\n"
   ]
  },
  {
   "cell_type": "code",
   "execution_count": null,
   "metadata": {},
   "outputs": [],
   "source": [
    "result = ctx.search()[1]\n",
    "result.dataset_id"
   ]
  },
  {
   "cell_type": "code",
   "execution_count": null,
   "metadata": {},
   "outputs": [],
   "source": [
    "files = result.file_context().search()\n",
    "for file in files:\n",
    "    if 'tos' in file.opendap_url:\n",
    "        tos_url = file.opendap_url\n",
    "        print(tos_url)"
   ]
  },
  {
   "cell_type": "markdown",
   "metadata": {},
   "source": [
    "## Subset single dataset with xarray\n",
    "\n",
    "Using OpenDAP: http://xarray.pydata.org/en/stable/io.html?highlight=opendap#opendap"
   ]
  },
  {
   "cell_type": "code",
   "execution_count": null,
   "metadata": {},
   "outputs": [],
   "source": [
    "import xarray as xr\n",
    "ds = xr.open_dataset(tos_url, chunks={'time': 120})\n",
    "print(ds)"
   ]
  },
  {
   "cell_type": "code",
   "execution_count": null,
   "metadata": {},
   "outputs": [],
   "source": [
    "da = ds['tos']\n",
    "da = da.isel(time=slice(0, 2))\n",
    "da = da.sel(lat=slice(-50, 50), lon=slice(0, 50))\n",
    "# da = da.squeeze()\n",
    "da"
   ]
  },
  {
   "cell_type": "code",
   "execution_count": null,
   "metadata": {},
   "outputs": [],
   "source": [
    "%matplotlib inline\n",
    "# da.squeeze().plot()"
   ]
  },
  {
   "cell_type": "markdown",
   "metadata": {},
   "source": [
    "## Download to NetCDF"
   ]
  },
  {
   "cell_type": "code",
   "execution_count": null,
   "metadata": {},
   "outputs": [],
   "source": [
    "# da.to_netcdf('tos.nc')"
   ]
  },
  {
   "cell_type": "markdown",
   "metadata": {},
   "source": [
    "## CDO\n",
    "https://pypi.org/project/cdo/\n",
    "https://code.mpimet.mpg.de/projects/cdo/wiki/Tutorial"
   ]
  },
  {
   "cell_type": "code",
   "execution_count": null,
   "metadata": {},
   "outputs": [],
   "source": [
    "ds_url = \"https://aims3.llnl.gov/thredds/dodsC/cmip5_css01_data/cmip5/output1/NOAA-GFDL/GFDL-HIRAM-C360/sst2030/mon/ocean/Omon/r3i1p1/v20110601/tos/tos_Omon_GFDL-HIRAM-C360_sst2030_r3i1p1_202601-203012.nc\"\n",
    "# ds_url = \"http://esgf-data1.ceda.ac.uk/thredds/dodsC/esg_dataroot/cmip5/output1/MOHC/HadCM3/rcp45/mon/atmos/Amon/r1i1p1/v20110905/tasmax/tasmax_Amon_HadCM3_rcp45_r1i1p1_200601-203012.nc\"\n"
   ]
  },
  {
   "cell_type": "code",
   "execution_count": null,
   "metadata": {},
   "outputs": [],
   "source": [
    "from cdo import Cdo"
   ]
  },
  {
   "cell_type": "code",
   "execution_count": null,
   "metadata": {},
   "outputs": [],
   "source": [
    "cdo = Cdo()"
   ]
  },
  {
   "cell_type": "code",
   "execution_count": null,
   "metadata": {},
   "outputs": [],
   "source": [
    "cdo.sinfo(input=ds_url)"
   ]
  },
  {
   "cell_type": "code",
   "execution_count": null,
   "metadata": {},
   "outputs": [],
   "source": [
    "# cdo.seltimestep(input=f\"{ds_url},1\", output=\"out.nc\")"
   ]
  },
  {
   "cell_type": "code",
   "execution_count": null,
   "metadata": {},
   "outputs": [],
   "source": [
    "# cdo -sellonlatbox,-180,180,0,90 -seltimestep,1 https://aims3.llnl.gov/thredds/dodsC/cmip5_css01_data/cmip5/output1/NOAA-GFDL/GFDL-HIRAM-C360/sst2030/mon/ocean/Omon/r3i1p1/v20110601/tos/tos_Omon_GFDL-HIRAM-C360_sst2030_r3i1p1_202601-203012.nc out.nc "
   ]
  }
 ],
 "metadata": {
  "kernelspec": {
   "display_name": "Python 3 (ipykernel)",
   "language": "python",
   "name": "python3"
  },
  "language_info": {
   "codemirror_mode": {
    "name": "ipython",
    "version": 3
   },
   "file_extension": ".py",
   "mimetype": "text/x-python",
   "name": "python",
   "nbconvert_exporter": "python",
   "pygments_lexer": "ipython3",
   "version": "3.9.7"
  }
 },
 "nbformat": 4,
 "nbformat_minor": 4
}
