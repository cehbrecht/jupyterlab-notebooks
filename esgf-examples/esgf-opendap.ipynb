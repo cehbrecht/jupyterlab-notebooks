{
 "cells": [
  {
   "cell_type": "code",
   "execution_count": 1,
   "metadata": {
    "collapsed": true
   },
   "outputs": [],
   "source": [
    "%matplotlib inline"
   ]
  },
  {
   "cell_type": "markdown",
   "metadata": {},
   "source": [
    "### Prepare esgf search connection\n",
    "\n",
    "See also http://esgf-pyclient.readthedocs.io/en/latest/examples.html"
   ]
  },
  {
   "cell_type": "code",
   "execution_count": 2,
   "metadata": {
    "collapsed": true
   },
   "outputs": [],
   "source": [
    "from pyesgf.search import SearchConnection\n",
    "conn = SearchConnection('http://esgf-data.dkrz.de/esg-search', distrib=False)"
   ]
  },
  {
   "cell_type": "markdown",
   "metadata": {},
   "source": [
    "### run a query for CORDEX datasets and show facets"
   ]
  },
  {
   "cell_type": "code",
   "execution_count": 3,
   "metadata": {
    "collapsed": false
   },
   "outputs": [
    {
     "name": "stdout",
     "output_type": "stream",
     "text": [
      "Hits: 2816\n",
      "Institute:\n"
     ]
    },
    {
     "data": {
      "text/plain": [
       "{u'AWI': 26,\n",
       " u'CLMcom': 570,\n",
       " u'DHMZ': 16,\n",
       " u'DMI': 580,\n",
       " u'GERICS': 133,\n",
       " u'HMS': 93,\n",
       " u'KNMI': 505,\n",
       " u'MPI-CSC': 665,\n",
       " u'ULg': 38,\n",
       " u'UQAM': 190}"
      ]
     },
     "execution_count": 3,
     "metadata": {},
     "output_type": "execute_result"
    }
   ],
   "source": [
    "ctx = conn.new_context(project='CORDEX', query='temperature')\n",
    "print 'Hits:', ctx.hit_count\n",
    "print 'Institute:'\n",
    "ctx.facet_counts['institute']"
   ]
  },
  {
   "cell_type": "markdown",
   "metadata": {},
   "source": [
    "### use facet search ..."
   ]
  },
  {
   "cell_type": "code",
   "execution_count": 4,
   "metadata": {
    "collapsed": false
   },
   "outputs": [
    {
     "name": "stdout",
     "output_type": "stream",
     "text": [
      "Hits: 378\n",
      "Domain: {u'EUR-11': 94, u'AFR-44': 94, u'WAS-44': 48, u'WAS-44i': 48, u'EUR-44': 94}\n",
      "Ensembles: {u'r2i1p1': 94, u'r1i1p1': 237, u'r12i1p1': 47}\n",
      "Variable: {u'prc': 8, u'tas': 8, u'uas': 8, u'huss': 8, u'hfss': 8, u'ua200': 8, u'prw': 2, u'zg200': 8, u'prsn': 8, u'rsus': 8, u'hus850': 8, u'pr': 8, u'rlut': 8, u'ua500': 8, u'rlus': 8, u'rlds': 8, u'ua850': 8, u'ts': 8, u'mrso': 8, u'sic': 8, u'clt': 8, u'vas': 8, u'snd': 8, u'va200': 8, u'psl': 8, u'va850': 8, u'ta200': 8, u'snm': 8, u'mrros': 8, u'snw': 8, u'rsds': 8, u'ta500': 8, u'zg500': 8, u'wsgsmax': 8, u'rsdt': 8, u'sfcWindmax': 8, u'mrro': 8, u'evspsbl': 8, u'sfcWind': 8, u'tauv': 8, u'tasmin': 8, u'tauu': 8, u'tasmax': 8, u'va500': 8, u'hfls': 8, u'ta850': 8, u'rsut': 8, u'ps': 8}\n"
     ]
    }
   ],
   "source": [
    "ctx = conn.new_context(project='CORDEX', institute='MPI-CSC', experiment='historical', time_frequency='day')\n",
    "print 'Hits:', ctx.hit_count\n",
    "print 'Domain:', ctx.facet_counts['domain']\n",
    "print 'Ensembles:', ctx.facet_counts['ensemble']\n",
    "print 'Variable:', ctx.facet_counts['variable']\n"
   ]
  },
  {
   "cell_type": "markdown",
   "metadata": {},
   "source": [
    "### add more constraints to select a single dataset"
   ]
  },
  {
   "cell_type": "code",
   "execution_count": 5,
   "metadata": {
    "collapsed": false
   },
   "outputs": [
    {
     "name": "stdout",
     "output_type": "stream",
     "text": [
      "Hits: 1\n"
     ]
    }
   ],
   "source": [
    "ctx = ctx.constrain(domain='EUR-11', ensemble='r1i1p1', variable='tasmax')\n",
    "print 'Hits:', ctx.hit_count\n"
   ]
  },
  {
   "cell_type": "markdown",
   "metadata": {},
   "source": [
    "### use aggregation context and get opendap url "
   ]
  },
  {
   "cell_type": "code",
   "execution_count": 6,
   "metadata": {
    "collapsed": false
   },
   "outputs": [
    {
     "name": "stdout",
     "output_type": "stream",
     "text": [
      "http://esgf1.dkrz.de/thredds/dodsC/cordex.output.EUR-11.MPI-CSC.MPI-M-MPI-ESM-LR.historical.r1i1p1.REMO2009.v1.day.tasmax.tasmax.20160419.aggregation\n"
     ]
    }
   ],
   "source": [
    "result = ctx.search()[0]\n",
    "agg_ctx = result.aggregation_context()\n",
    "agg = agg_ctx.search()[0]\n",
    "print agg.opendap_url"
   ]
  },
  {
   "cell_type": "markdown",
   "metadata": {},
   "source": [
    "### use logon manager to get proxy certificate and prepare secured opendap access"
   ]
  },
  {
   "cell_type": "code",
   "execution_count": 7,
   "metadata": {
    "collapsed": false
   },
   "outputs": [
    {
     "data": {
      "text/plain": [
       "False"
      ]
     },
     "execution_count": 7,
     "metadata": {},
     "output_type": "execute_result"
    }
   ],
   "source": [
    "from pyesgf.logon import LogonManager\n",
    "lm = LogonManager()\n",
    "lm.logoff()\n",
    "lm.is_logged_on()"
   ]
  },
  {
   "cell_type": "markdown",
   "metadata": {},
   "source": [
    "... logon on now with you username and password:"
   ]
  },
  {
   "cell_type": "code",
   "execution_count": 8,
   "metadata": {
    "collapsed": false
   },
   "outputs": [
    {
     "name": "stdout",
     "output_type": "stream",
     "text": [
      "Enter myproxy username:pingutest1\n",
      "Enter password for pingutest1: ········\n",
      "\n"
     ]
    }
   ],
   "source": [
    "lm.logon(hostname=\"esgf-data.dkrz.de\", bootstrap=True, interactive=True)"
   ]
  },
  {
   "cell_type": "code",
   "execution_count": 9,
   "metadata": {
    "collapsed": false
   },
   "outputs": [
    {
     "data": {
      "text/plain": [
       "True"
      ]
     },
     "execution_count": 9,
     "metadata": {},
     "output_type": "execute_result"
    }
   ],
   "source": [
    "lm.is_logged_on()"
   ]
  },
  {
   "cell_type": "markdown",
   "metadata": {},
   "source": [
    "this updates you proxy certificate in `~/.esg/` and prepares a `~/.dodsrc` config file for secured opendap access. "
   ]
  },
  {
   "cell_type": "markdown",
   "metadata": {},
   "source": [
    "### use python netCDF4 to access opendap data\n",
    "\n",
    "see http://unidata.github.io/netcdf4-python/"
   ]
  },
  {
   "cell_type": "code",
   "execution_count": 10,
   "metadata": {
    "collapsed": false
   },
   "outputs": [],
   "source": [
    "from netCDF4 import Dataset\n",
    "\n",
    "ds = Dataset(agg.opendap_url, 'r')"
   ]
  },
  {
   "cell_type": "markdown",
   "metadata": {},
   "source": [
    "show attributes:"
   ]
  },
  {
   "cell_type": "code",
   "execution_count": 11,
   "metadata": {
    "collapsed": false
   },
   "outputs": [
    {
     "data": {
      "text/plain": [
       "u'historical'"
      ]
     },
     "execution_count": 11,
     "metadata": {},
     "output_type": "execute_result"
    }
   ],
   "source": [
    "ds.ncattrs()\n",
    "\n",
    "ds.getncattr('experiment')"
   ]
  },
  {
   "cell_type": "markdown",
   "metadata": {},
   "source": [
    "show variables:"
   ]
  },
  {
   "cell_type": "code",
   "execution_count": 12,
   "metadata": {
    "collapsed": false
   },
   "outputs": [
    {
     "data": {
      "text/plain": [
       "[u'rlat',\n",
       " u'rlon',\n",
       " u'rotated_latitude_longitude',\n",
       " u'lat_vertices',\n",
       " u'lon_vertices',\n",
       " u'height',\n",
       " u'time',\n",
       " u'time_bnds',\n",
       " u'lat',\n",
       " u'lon',\n",
       " u'tasmax']"
      ]
     },
     "execution_count": 12,
     "metadata": {},
     "output_type": "execute_result"
    }
   ],
   "source": [
    "ds.variables.keys()"
   ]
  },
  {
   "cell_type": "markdown",
   "metadata": {},
   "source": [
    "details about time variable:"
   ]
  },
  {
   "cell_type": "code",
   "execution_count": 13,
   "metadata": {
    "collapsed": false
   },
   "outputs": [
    {
     "data": {
      "text/plain": [
       "<type 'netCDF4._netCDF4.Variable'>\n",
       "float64 time(time)\n",
       "    bounds: time_bnds\n",
       "    units: days since 1949-12-01T00:00:00Z\n",
       "    calendar: proleptic_gregorian\n",
       "    axis: T\n",
       "    long_name: time\n",
       "    standard_name: time\n",
       "    _ChunkSizes: 524288\n",
       "unlimited dimensions: \n",
       "current shape = (20453,)\n",
       "filling off"
      ]
     },
     "execution_count": 13,
     "metadata": {},
     "output_type": "execute_result"
    }
   ],
   "source": [
    "ds.variables['time']"
   ]
  },
  {
   "cell_type": "markdown",
   "metadata": {},
   "source": [
    "show details about tasmax:"
   ]
  },
  {
   "cell_type": "code",
   "execution_count": 14,
   "metadata": {
    "collapsed": false,
    "scrolled": true
   },
   "outputs": [
    {
     "data": {
      "text/plain": [
       "<type 'netCDF4._netCDF4.Variable'>\n",
       "float32 tasmax(time, rlat, rlon)\n",
       "    standard_name: air_temperature\n",
       "    long_name: Daily Maximum Near-Surface Air Temperature\n",
       "    comment: daily-maximum near-surface (usually, 2 meter) air temperature.\n",
       "    units: K\n",
       "    cell_methods: time: maximum\n",
       "    history: 2016-02-01T11:17:01Z altered by CMOR: Treated scalar dimension: 'height'.\n",
       "    coordinates: height lat lon\n",
       "    missing_value: 1e+20\n",
       "    _FillValue: 1e+20\n",
       "    associated_files: gridspecFile: gridspec_atmos_fx_MPI-CSC-REMO2009_historical_r0i0p0.nc\n",
       "    grid_mapping: rotated_latitude_longitude\n",
       "    _ChunkSizes: [  1 412 424]\n",
       "unlimited dimensions: \n",
       "current shape = (20453, 412, 424)\n",
       "filling off"
      ]
     },
     "execution_count": 14,
     "metadata": {},
     "output_type": "execute_result"
    }
   ],
   "source": [
    "ds.variables['tasmax']"
   ]
  },
  {
   "cell_type": "markdown",
   "metadata": {},
   "source": [
    "### Create a plot of the first timestep using cartopy\n",
    "\n",
    "see http://scitools.org.uk/cartopy/docs/latest/matplotlib/advanced_plotting.html?highlight=netcdf"
   ]
  },
  {
   "cell_type": "code",
   "execution_count": 15,
   "metadata": {
    "collapsed": false
   },
   "outputs": [
    {
     "data": {
      "image/png": "[encoded data removed]",
      "text/plain": [
       "<matplotlib.figure.Figure at 0x7f9c5d1bfd90>"
      ]
     },
     "metadata": {},
     "output_type": "display_data"
    }
   ],
   "source": [
    "import matplotlib.pyplot as plt\n",
    "from cartopy import config\n",
    "import cartopy.crs as ccrs\n",
    "\n",
    "timestep = 0\n",
    "\n",
    "tasmax = ds.variables['tasmax'][timestep, :, :]\n",
    "lats = ds.variables['lat'][:]\n",
    "lons = ds.variables['lon'][:]\n",
    "\n",
    "ax = plt.axes(projection=ccrs.PlateCarree())\n",
    "ax.coastlines()\n",
    "ax.set_global()\n",
    "\n",
    "fig = plt.contourf(lons, lats, tasmax, 60, transform=ccrs.PlateCarree())\n",
    "#plt.show()"
   ]
  },
  {
   "cell_type": "markdown",
   "metadata": {},
   "source": [
    "### Clip the bounding box and plot it ..."
   ]
  },
  {
   "cell_type": "code",
   "execution_count": 16,
   "metadata": {
    "collapsed": false
   },
   "outputs": [
    {
     "data": {
      "text/plain": [
       "<matplotlib.contour.QuadContourSet at 0x7f9c4ebfeb90>"
      ]
     },
     "execution_count": 16,
     "metadata": {},
     "output_type": "execute_result"
    },
    {
     "data": {
      "image/png": "[encoded data removed]",
      "text/plain": [
       "<matplotlib.figure.Figure at 0x7f9c5d1bfc50>"
      ]
     },
     "metadata": {},
     "output_type": "display_data"
    }
   ],
   "source": [
    "ax = plt.axes(projection=ccrs.PlateCarree())\n",
    "ax.coastlines()\n",
    "ax.set_global()\n",
    "plt.contourf(lons.clip(min=0, max=20), lats.clip(min=40, max=60), tasmax, 60, transform=ccrs.PlateCarree())\n",
    "#plt.show()"
   ]
  },
  {
   "cell_type": "markdown",
   "metadata": {},
   "source": [
    "### Write netcdf file with a given subset (boundingbox, time)\n",
    "\n",
    "One needs to create a new Dataset object and copy all the attributes and data needed. This is a bit lengthly.\n",
    "\n",
    "See the following example:\n",
    "\n",
    "http://schubert.atmos.colostate.edu/~cslocum/netcdf_example.html"
   ]
  },
  {
   "cell_type": "markdown",
   "metadata": {},
   "source": [
    "### Use nco to write netcdf file for a subset\n",
    "\n",
    "    ncks -O -d time,0,0 http://esgf1.dkrz.de/thredds/dodsC/cordex.output.EUR-11.MPI-CSC.MPI-M-MPI-ESM-LR.historical.r1i1p1.REMO2009.v1.day.tasmax.tasmax.20160419.aggregation -o test.nc\n"
   ]
  },
  {
   "cell_type": "markdown",
   "metadata": {},
   "source": [
    "### Use nco python wrapper"
   ]
  },
  {
   "cell_type": "code",
   "execution_count": 17,
   "metadata": {
    "collapsed": true
   },
   "outputs": [],
   "source": [
    "from nco import Nco\n",
    "nco = Nco()"
   ]
  },
  {
   "cell_type": "markdown",
   "metadata": {},
   "source": [
    "subset first timestamp"
   ]
  },
  {
   "cell_type": "code",
   "execution_count": 18,
   "metadata": {
    "collapsed": false
   },
   "outputs": [
    {
     "data": {
      "text/plain": [
       "'/tmp/out.nc'"
      ]
     },
     "execution_count": 18,
     "metadata": {},
     "output_type": "execute_result"
    }
   ],
   "source": [
    "nc_out = '/tmp/out.nc'\n",
    "nco.ncks(input=str(agg.opendap_url), output=nc_out, options=\"-O -d time,0,0 -d rlon,0,20 -d rlat,40,60 --netcdf4\")"
   ]
  },
  {
   "cell_type": "markdown",
   "metadata": {},
   "source": [
    "### show output with cdo"
   ]
  },
  {
   "cell_type": "code",
   "execution_count": 19,
   "metadata": {
    "collapsed": true
   },
   "outputs": [],
   "source": [
    "from cdo import Cdo\n",
    "cdo = Cdo()"
   ]
  },
  {
   "cell_type": "code",
   "execution_count": 20,
   "metadata": {
    "collapsed": false
   },
   "outputs": [
    {
     "data": {
      "text/plain": [
       "[u'File format : netCDF4',\n",
       " u'-1 : Institut Source   Ttype    Levels Num    Points Num Dtype : Parameter ID',\n",
       " u'1 : unknown  MPI-CSC-REMO2009 instant       1   1       441   1  F32  : -1',\n",
       " u'Grid coordinates :',\n",
       " u'1 : curvilinear              : points=441 (21x21)',\n",
       " u'lon : -13.1062 to -9.94999 degrees_east',\n",
       " u'lat : 26.0437 to 28.8984 degrees_north',\n",
       " u'available : cellbounds',\n",
       " u'Vertical coordinates :',\n",
       " u'1 : height                   : levels=1',\n",
       " u'height : 2 m',\n",
       " u'Time coordinate :  1 step',\n",
       " u'RefTime =  1949-12-01 00:00:00  Units = days  Calendar = proleptic_gregorian  Bounds = true',\n",
       " u'YYYY-MM-DD hh:mm:ss  YYYY-MM-DD hh:mm:ss  YYYY-MM-DD hh:mm:ss  YYYY-MM-DD hh:mm:ss',\n",
       " u'1950-01-02 12:00:00']"
      ]
     },
     "execution_count": 20,
     "metadata": {},
     "output_type": "execute_result"
    }
   ],
   "source": [
    "cdo.sinfo(input=nc_out)"
   ]
  },
  {
   "cell_type": "code",
   "execution_count": 21,
   "metadata": {
    "collapsed": false
   },
   "outputs": [
    {
     "data": {
      "text/plain": [
       "[u'tasmax']"
      ]
     },
     "execution_count": 21,
     "metadata": {},
     "output_type": "execute_result"
    }
   ],
   "source": [
    "cdo.showname(input=nc_out)"
   ]
  },
  {
   "cell_type": "markdown",
   "metadata": {},
   "source": [
    "### Convert to CSV"
   ]
  },
  {
   "cell_type": "markdown",
   "metadata": {},
   "source": [
    "client:\n",
    "\n",
    "* https://www.wakari.io/sharing/bundle/rsignell/cf_3d_to_1d\n",
    "* http://stackoverflow.com/questions/28420988/how-to-read-netcdf-file-and-write-to-csv-using-python\n",
    "\n",
    "server:\n",
    "\n",
    "* http://www.pydap.org/responses.html#excel-spreadsheet"
   ]
  }
 ],
 "metadata": {
  "kernelspec": {
   "display_name": "Python 2",
   "language": "python",
   "name": "python2"
  },
  "language_info": {
   "codemirror_mode": {
    "name": "ipython",
    "version": 2
   },
   "file_extension": ".py",
   "mimetype": "text/x-python",
   "name": "python",
   "nbconvert_exporter": "python",
   "pygments_lexer": "ipython2",
   "version": "2.7.12"
  }
 },
 "nbformat": 4,
 "nbformat_minor": 0
}
