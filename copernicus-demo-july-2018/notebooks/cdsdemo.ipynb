{
 "cells": [
  {
   "cell_type": "markdown",
   "metadata": {},
   "source": [
    "## Example for cdsapi: https://pypi.org/project/cdsapi/"
   ]
  },
  {
   "cell_type": "code",
   "execution_count": 5,
   "metadata": {},
   "outputs": [],
   "source": [
    "import cdsapi"
   ]
  },
  {
   "cell_type": "code",
   "execution_count": 6,
   "metadata": {},
   "outputs": [],
   "source": [
    "cds = cdsapi.Client()"
   ]
  },
  {
   "cell_type": "code",
   "execution_count": 11,
   "metadata": {},
   "outputs": [
    {
     "name": "stderr",
     "output_type": "stream",
     "text": [
      "2018-07-18 16:27:44,251 INFO Sending request to https://cds.climate.copernicus.eu/api/v2/resources/reanalysis-era5-pressure-levels\n",
      "/Users/pingu/.conda/envs/cdsdemo/lib/python3.6/site-packages/urllib3/connectionpool.py:857: InsecureRequestWarning: Unverified HTTPS request is being made. Adding certificate verification is strongly advised. See: https://urllib3.readthedocs.io/en/latest/advanced-usage.html#ssl-warnings\n",
      "  InsecureRequestWarning)\n",
      "2018-07-18 16:27:44,411 INFO Downloading http://136.156.132.113/cache-compute-0003/cache/inputs/unknown/85af7798-f5d5-41c9-8a11-b6966b6eb82c/85af7798-f5d5-41c9-8a11-b6966b6eb82c.grib to /tmp/download.grib (61.4M)\n",
      "2018-07-18 16:27:47,470 INFO Download rate 20.1M/s\n"
     ]
    },
    {
     "data": {
      "text/plain": [
       "Result(content_length=64374600,content_type=application/x-grib,location=http://136.156.132.113/cache-compute-0003/cache/inputs/unknown/85af7798-f5d5-41c9-8a11-b6966b6eb82c/85af7798-f5d5-41c9-8a11-b6966b6eb82c.grib)"
      ]
     },
     "execution_count": 11,
     "metadata": {},
     "output_type": "execute_result"
    }
   ],
   "source": [
    "cds.retrieve('reanalysis-era5-pressure-levels', {\n",
    "           \"variable\": \"temperature\",\n",
    "           \"pressure_level\": \"1000\",\n",
    "           \"product_type\": \"reanalysis\",\n",
    "           \"date\": \"2017-12-01/2017-12-31\",\n",
    "           \"time\": \"12:00\",\n",
    "           \"format\": \"grib\"\n",
    "       }, '/tmp/download.grib')"
   ]
  },
  {
   "cell_type": "markdown",
   "metadata": {},
   "source": [
    "## Run CDO sinfo"
   ]
  },
  {
   "cell_type": "code",
   "execution_count": 8,
   "metadata": {},
   "outputs": [
    {
     "name": "stdout",
     "output_type": "stream",
     "text": [
      "Could not load xarray\n"
     ]
    }
   ],
   "source": [
    "from cdo import Cdo"
   ]
  },
  {
   "cell_type": "code",
   "execution_count": 9,
   "metadata": {},
   "outputs": [],
   "source": [
    "cdo = Cdo()"
   ]
  },
  {
   "cell_type": "code",
   "execution_count": 12,
   "metadata": {},
   "outputs": [
    {
     "data": {
      "text/plain": [
       "['File format : GRIB',\n",
       " '-1 : Institut Source   T Steptype Levels Num    Points Num Dtype : Parameter ID',\n",
       " '1 : ECMWF    unknown  v instant       1   1   1038240   1  P16  : 130.128',\n",
       " 'Grid coordinates :',\n",
       " '1 : lonlat                   : points=1038240 (1440x721)',\n",
       " 'lon : 0 to 359.75 by 0.25 degrees_east  circular',\n",
       " 'lat : 90 to -90 by -0.25 degrees_north',\n",
       " 'Vertical coordinates :',\n",
       " '1 : pressure                 : levels=1',\n",
       " 'plev : 100000',\n",
       " 'Time coordinate :  unlimited steps',\n",
       " 'RefTime =  2017-12-01 12:00:00  Units = hours  Calendar = proleptic_gregorian',\n",
       " 'YYYY-MM-DD hh:mm:ss  YYYY-MM-DD hh:mm:ss  YYYY-MM-DD hh:mm:ss  YYYY-MM-DD hh:mm:ss',\n",
       " '2017-12-01 12:00:00  2017-12-02 12:00:00  2017-12-03 12:00:00  2017-12-04 12:00:00',\n",
       " '2017-12-05 12:00:00  2017-12-06 12:00:00  2017-12-07 12:00:00  2017-12-08 12:00:00',\n",
       " '2017-12-09 12:00:00  2017-12-10 12:00:00  2017-12-11 12:00:00  2017-12-12 12:00:00',\n",
       " '2017-12-13 12:00:00  2017-12-14 12:00:00  2017-12-15 12:00:00  2017-12-16 12:00:00',\n",
       " '2017-12-17 12:00:00  2017-12-18 12:00:00  2017-12-19 12:00:00  2017-12-20 12:00:00',\n",
       " '2017-12-21 12:00:00  2017-12-22 12:00:00  2017-12-23 12:00:00  2017-12-24 12:00:00',\n",
       " '2017-12-25 12:00:00  2017-12-26 12:00:00  2017-12-27 12:00:00  2017-12-28 12:00:00',\n",
       " '2017-12-29 12:00:00  2017-12-30 12:00:00  2017-12-31 12:00:00']"
      ]
     },
     "execution_count": 12,
     "metadata": {},
     "output_type": "execute_result"
    }
   ],
   "source": [
    "cdo.sinfo(input='/tmp/download.grib')"
   ]
  },
  {
   "cell_type": "code",
   "execution_count": null,
   "metadata": {},
   "outputs": [],
   "source": []
  }
 ],
 "metadata": {
  "kernelspec": {
   "display_name": "Python 3",
   "language": "python",
   "name": "python3"
  },
  "language_info": {
   "codemirror_mode": {
    "name": "ipython",
    "version": 3
   },
   "file_extension": ".py",
   "mimetype": "text/x-python",
   "name": "python",
   "nbconvert_exporter": "python",
   "pygments_lexer": "ipython3",
   "version": "3.6.5"
  }
 },
 "nbformat": 4,
 "nbformat_minor": 2
}
